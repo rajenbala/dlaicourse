{
  "nbformat": 4,
  "nbformat_minor": 0,
  "metadata": {
    "colab": {
      "name": "ANNRegression-Exam1.ipynb",
      "provenance": [],
      "collapsed_sections": [],
      "mount_file_id": "1yMU6tRAGPMgEMaOT8-y2hqpxm7acVSgZ",
      "authorship_tag": "ABX9TyMtorUpt79LacRIqn59qjQ2",
      "include_colab_link": true
    },
    "kernelspec": {
      "name": "python3",
      "display_name": "Python 3"
    },
    "language_info": {
      "name": "python"
    }
  },
  "cells": [
    {
      "cell_type": "markdown",
      "metadata": {
        "id": "view-in-github",
        "colab_type": "text"
      },
      "source": [
        "<a href=\"https://colab.research.google.com/github/rajenbala/dlaicourse/blob/master/ANNRegression_Exam1.ipynb\" target=\"_parent\"><img src=\"https://colab.research.google.com/assets/colab-badge.svg\" alt=\"Open In Colab\"/></a>"
      ]
    },
    {
      "cell_type": "code",
      "metadata": {
        "colab": {
          "base_uri": "https://localhost:8080/"
        },
        "id": "pb5yLqMR-6Dn",
        "outputId": "47e16f79-8966-43a5-b974-44c7da12c47f"
      },
      "source": [
        "#Import Tensorflow\n",
        "\n",
        "import tensorflow as tf\n",
        "import numpy as np\n",
        "print(tf.__version__)"
      ],
      "execution_count": 1,
      "outputs": [
        {
          "output_type": "stream",
          "text": [
            "2.4.1\n"
          ],
          "name": "stdout"
        }
      ]
    },
    {
      "cell_type": "markdown",
      "metadata": {
        "id": "6kxHyN0AjVIo"
      },
      "source": [
        "Exam 1:\n",
        "TensorFlow developer skills\n",
        "You need to demonstrate that you understand how to develop software programs using TensorFlow and that you can find the information you need to work as an ML practitioner. \n",
        "You need to:\n",
        "\n",
        "1. Know how to program in Python, resolve Python issues, and compile and run Python programs in PyCharm.\n",
        "2. Know how to find information about TensorFlow APIs, including how to find guides and API references on tensorflow.org.\n",
        "3. Knowhowtodebug,investigate,andsolveerrormessagesfromtheTensorFlowAPI.\n",
        "4. Knowhowtosearchbeyondtensorflow.org,asandwhennecessary,tosolveyourTensorFlow\n",
        "questions.\n",
        "5. KnowhowtocreateMLmodelsusingTensorFlowwherethemodelsizeisreasonableforthe \n",
        "problem being solved.\n",
        "6. KnowhowtosaveMLmodelsandcheckthemodelfilesize.\n",
        "7. UnderstandthecompatibilitydiscrepanciesbetweendifferentversionsofTensorFlow."
      ]
    },
    {
      "cell_type": "code",
      "metadata": {
        "id": "ivX-X_2yo2DQ"
      },
      "source": [
        "# Sample 4:\n",
        "sampleFourFeatures = np.array([-7.0, -4.0, -1.0, 2.0, 5.0, 8.0, 11.0, 14.0])\n",
        "sampleFourTargets = np.array([3.0, 6.0, 9.0, 12.0, 15.0, 18.0, 21.0, 24.0])\n",
        "\n"
      ],
      "execution_count": 2,
      "outputs": []
    },
    {
      "cell_type": "code",
      "metadata": {
        "id": "7byMCFKAlBbc"
      },
      "source": [
        "#Step 1: Model Creation\n",
        "\n",
        "model = tf.keras.Sequential([\n",
        "                             tf.keras.layers.Dense(units=20,activation=\"relu\",input_shape=(1,)),\n",
        "                             tf.keras.layers.Dense(units=5,activation=\"relu\"),\n",
        "                             tf.keras.layers.Dense(units=1) # Note: No activation function in the final layer  t\n",
        "])"
      ],
      "execution_count": 3,
      "outputs": []
    },
    {
      "cell_type": "code",
      "metadata": {
        "id": "DXB09zXZl_FI"
      },
      "source": [
        "#Step 2: Compile\n",
        "\n",
        "model.compile(optimizer=tf.keras.optimizers.Adam(learning_rate=0.01),loss=tf.keras.losses.mean_absolute_error,metrics=[\"accuracy\",\"mae\"])"
      ],
      "execution_count": 4,
      "outputs": []
    },
    {
      "cell_type": "code",
      "metadata": {
        "colab": {
          "base_uri": "https://localhost:8080/"
        },
        "id": "4dovlKP0mfOl",
        "outputId": "780aa860-5795-4d8d-af0f-b76842685ea3"
      },
      "source": [
        "#Step 3: fit\n",
        "\n",
        "model.fit(sampleFourFeatures,sampleFourTargets,epochs=500)"
      ],
      "execution_count": 5,
      "outputs": [
        {
          "output_type": "stream",
          "text": [
            "Epoch 1/500\n",
            "1/1 [==============================] - 1s 607ms/step - loss: 13.2050 - accuracy: 0.0000e+00 - mae: 13.2050\n",
            "Epoch 2/500\n",
            "1/1 [==============================] - 0s 8ms/step - loss: 12.9576 - accuracy: 0.0000e+00 - mae: 12.9576\n",
            "Epoch 3/500\n",
            "1/1 [==============================] - 0s 4ms/step - loss: 12.7125 - accuracy: 0.0000e+00 - mae: 12.7125\n",
            "Epoch 4/500\n",
            "1/1 [==============================] - 0s 6ms/step - loss: 12.4684 - accuracy: 0.0000e+00 - mae: 12.4684\n",
            "Epoch 5/500\n",
            "1/1 [==============================] - 0s 4ms/step - loss: 12.2482 - accuracy: 0.0000e+00 - mae: 12.2482\n",
            "Epoch 6/500\n",
            "1/1 [==============================] - 0s 4ms/step - loss: 12.0580 - accuracy: 0.0000e+00 - mae: 12.0580\n",
            "Epoch 7/500\n",
            "1/1 [==============================] - 0s 4ms/step - loss: 11.8608 - accuracy: 0.0000e+00 - mae: 11.8608\n",
            "Epoch 8/500\n",
            "1/1 [==============================] - 0s 4ms/step - loss: 11.6534 - accuracy: 0.0000e+00 - mae: 11.6534\n",
            "Epoch 9/500\n",
            "1/1 [==============================] - 0s 3ms/step - loss: 11.4359 - accuracy: 0.0000e+00 - mae: 11.4359\n",
            "Epoch 10/500\n",
            "1/1 [==============================] - 0s 4ms/step - loss: 11.2072 - accuracy: 0.0000e+00 - mae: 11.2072\n",
            "Epoch 11/500\n",
            "1/1 [==============================] - 0s 5ms/step - loss: 10.9702 - accuracy: 0.0000e+00 - mae: 10.9702\n",
            "Epoch 12/500\n",
            "1/1 [==============================] - 0s 9ms/step - loss: 10.7253 - accuracy: 0.0000e+00 - mae: 10.7253\n",
            "Epoch 13/500\n",
            "1/1 [==============================] - 0s 9ms/step - loss: 10.4655 - accuracy: 0.0000e+00 - mae: 10.4655\n",
            "Epoch 14/500\n",
            "1/1 [==============================] - 0s 6ms/step - loss: 10.1897 - accuracy: 0.0000e+00 - mae: 10.1897\n",
            "Epoch 15/500\n",
            "1/1 [==============================] - 0s 6ms/step - loss: 9.8970 - accuracy: 0.0000e+00 - mae: 9.8970\n",
            "Epoch 16/500\n",
            "1/1 [==============================] - 0s 5ms/step - loss: 9.5862 - accuracy: 0.0000e+00 - mae: 9.5862\n",
            "Epoch 17/500\n",
            "1/1 [==============================] - 0s 7ms/step - loss: 9.2563 - accuracy: 0.0000e+00 - mae: 9.2563\n",
            "Epoch 18/500\n",
            "1/1 [==============================] - 0s 8ms/step - loss: 8.9060 - accuracy: 0.0000e+00 - mae: 8.9060\n",
            "Epoch 19/500\n",
            "1/1 [==============================] - 0s 13ms/step - loss: 8.5341 - accuracy: 0.0000e+00 - mae: 8.5341\n",
            "Epoch 20/500\n",
            "1/1 [==============================] - 0s 5ms/step - loss: 8.1393 - accuracy: 0.0000e+00 - mae: 8.1393\n",
            "Epoch 21/500\n",
            "1/1 [==============================] - 0s 11ms/step - loss: 7.7204 - accuracy: 0.0000e+00 - mae: 7.7204\n",
            "Epoch 22/500\n",
            "1/1 [==============================] - 0s 13ms/step - loss: 7.2756 - accuracy: 0.0000e+00 - mae: 7.2756\n",
            "Epoch 23/500\n",
            "1/1 [==============================] - 0s 7ms/step - loss: 6.8019 - accuracy: 0.0000e+00 - mae: 6.8019\n",
            "Epoch 24/500\n",
            "1/1 [==============================] - 0s 6ms/step - loss: 6.2974 - accuracy: 0.0000e+00 - mae: 6.2974\n",
            "Epoch 25/500\n",
            "1/1 [==============================] - 0s 10ms/step - loss: 5.7619 - accuracy: 0.0000e+00 - mae: 5.7619\n",
            "Epoch 26/500\n",
            "1/1 [==============================] - 0s 4ms/step - loss: 5.1940 - accuracy: 0.0000e+00 - mae: 5.1940\n",
            "Epoch 27/500\n",
            "1/1 [==============================] - 0s 7ms/step - loss: 4.5917 - accuracy: 0.0000e+00 - mae: 4.5917\n",
            "Epoch 28/500\n",
            "1/1 [==============================] - 0s 10ms/step - loss: 4.2376 - accuracy: 0.0000e+00 - mae: 4.2376\n",
            "Epoch 29/500\n",
            "1/1 [==============================] - 0s 4ms/step - loss: 4.1153 - accuracy: 0.0000e+00 - mae: 4.1153\n",
            "Epoch 30/500\n",
            "1/1 [==============================] - 0s 7ms/step - loss: 4.1981 - accuracy: 0.0000e+00 - mae: 4.1981\n",
            "Epoch 31/500\n",
            "1/1 [==============================] - 0s 6ms/step - loss: 4.2638 - accuracy: 0.0000e+00 - mae: 4.2638\n",
            "Epoch 32/500\n",
            "1/1 [==============================] - 0s 8ms/step - loss: 4.4329 - accuracy: 0.0000e+00 - mae: 4.4329\n",
            "Epoch 33/500\n",
            "1/1 [==============================] - 0s 5ms/step - loss: 4.5754 - accuracy: 0.0000e+00 - mae: 4.5754\n",
            "Epoch 34/500\n",
            "1/1 [==============================] - 0s 7ms/step - loss: 4.6231 - accuracy: 0.0000e+00 - mae: 4.6231\n",
            "Epoch 35/500\n",
            "1/1 [==============================] - 0s 7ms/step - loss: 4.6015 - accuracy: 0.0000e+00 - mae: 4.6015\n",
            "Epoch 36/500\n",
            "1/1 [==============================] - 0s 11ms/step - loss: 4.5167 - accuracy: 0.0000e+00 - mae: 4.5167\n",
            "Epoch 37/500\n",
            "1/1 [==============================] - 0s 5ms/step - loss: 4.3777 - accuracy: 0.0000e+00 - mae: 4.3777\n",
            "Epoch 38/500\n",
            "1/1 [==============================] - 0s 6ms/step - loss: 4.1920 - accuracy: 0.0000e+00 - mae: 4.1920\n",
            "Epoch 39/500\n",
            "1/1 [==============================] - 0s 6ms/step - loss: 4.0434 - accuracy: 0.0000e+00 - mae: 4.0434\n",
            "Epoch 40/500\n",
            "1/1 [==============================] - 0s 8ms/step - loss: 3.9011 - accuracy: 0.0000e+00 - mae: 3.9011\n",
            "Epoch 41/500\n",
            "1/1 [==============================] - 0s 8ms/step - loss: 3.7319 - accuracy: 0.0000e+00 - mae: 3.7319\n",
            "Epoch 42/500\n",
            "1/1 [==============================] - 0s 7ms/step - loss: 3.6161 - accuracy: 0.0000e+00 - mae: 3.6161\n",
            "Epoch 43/500\n",
            "1/1 [==============================] - 0s 8ms/step - loss: 3.5499 - accuracy: 0.0000e+00 - mae: 3.5499\n",
            "Epoch 44/500\n",
            "1/1 [==============================] - 0s 7ms/step - loss: 3.4845 - accuracy: 0.0000e+00 - mae: 3.4845\n",
            "Epoch 45/500\n",
            "1/1 [==============================] - 0s 10ms/step - loss: 3.4208 - accuracy: 0.0000e+00 - mae: 3.4208\n",
            "Epoch 46/500\n",
            "1/1 [==============================] - 0s 7ms/step - loss: 3.3575 - accuracy: 0.0000e+00 - mae: 3.3575\n",
            "Epoch 47/500\n",
            "1/1 [==============================] - 0s 6ms/step - loss: 3.4235 - accuracy: 0.0000e+00 - mae: 3.4235\n",
            "Epoch 48/500\n",
            "1/1 [==============================] - 0s 9ms/step - loss: 3.4780 - accuracy: 0.0000e+00 - mae: 3.4780\n",
            "Epoch 49/500\n",
            "1/1 [==============================] - 0s 8ms/step - loss: 3.5145 - accuracy: 0.0000e+00 - mae: 3.5145\n",
            "Epoch 50/500\n",
            "1/1 [==============================] - 0s 6ms/step - loss: 3.5353 - accuracy: 0.0000e+00 - mae: 3.5353\n",
            "Epoch 51/500\n",
            "1/1 [==============================] - 0s 9ms/step - loss: 3.5419 - accuracy: 0.0000e+00 - mae: 3.5419\n",
            "Epoch 52/500\n",
            "1/1 [==============================] - 0s 7ms/step - loss: 3.5492 - accuracy: 0.0000e+00 - mae: 3.5492\n",
            "Epoch 53/500\n",
            "1/1 [==============================] - 0s 5ms/step - loss: 3.4986 - accuracy: 0.0000e+00 - mae: 3.4986\n",
            "Epoch 54/500\n",
            "1/1 [==============================] - 0s 7ms/step - loss: 3.4527 - accuracy: 0.0000e+00 - mae: 3.4527\n",
            "Epoch 55/500\n",
            "1/1 [==============================] - 0s 6ms/step - loss: 3.3991 - accuracy: 0.0000e+00 - mae: 3.3991\n",
            "Epoch 56/500\n",
            "1/1 [==============================] - 0s 9ms/step - loss: 3.3380 - accuracy: 0.0000e+00 - mae: 3.3380\n",
            "Epoch 57/500\n",
            "1/1 [==============================] - 0s 6ms/step - loss: 3.2693 - accuracy: 0.0000e+00 - mae: 3.2693\n",
            "Epoch 58/500\n",
            "1/1 [==============================] - 0s 6ms/step - loss: 3.1937 - accuracy: 0.0000e+00 - mae: 3.1937\n",
            "Epoch 59/500\n",
            "1/1 [==============================] - 0s 7ms/step - loss: 3.1915 - accuracy: 0.0000e+00 - mae: 3.1915\n",
            "Epoch 60/500\n",
            "1/1 [==============================] - 0s 7ms/step - loss: 3.2040 - accuracy: 0.0000e+00 - mae: 3.2040\n",
            "Epoch 61/500\n",
            "1/1 [==============================] - 0s 8ms/step - loss: 3.2087 - accuracy: 0.0000e+00 - mae: 3.2087\n",
            "Epoch 62/500\n",
            "1/1 [==============================] - 0s 5ms/step - loss: 3.2054 - accuracy: 0.0000e+00 - mae: 3.2054\n",
            "Epoch 63/500\n",
            "1/1 [==============================] - 0s 5ms/step - loss: 3.1942 - accuracy: 0.0000e+00 - mae: 3.1942\n",
            "Epoch 64/500\n",
            "1/1 [==============================] - 0s 9ms/step - loss: 3.1767 - accuracy: 0.0000e+00 - mae: 3.1767\n",
            "Epoch 65/500\n",
            "1/1 [==============================] - 0s 4ms/step - loss: 3.1530 - accuracy: 0.0000e+00 - mae: 3.1530\n",
            "Epoch 66/500\n",
            "1/1 [==============================] - 0s 12ms/step - loss: 3.1243 - accuracy: 0.0000e+00 - mae: 3.1243\n",
            "Epoch 67/500\n",
            "1/1 [==============================] - 0s 12ms/step - loss: 3.0906 - accuracy: 0.0000e+00 - mae: 3.0906\n",
            "Epoch 68/500\n",
            "1/1 [==============================] - 0s 10ms/step - loss: 3.0522 - accuracy: 0.0000e+00 - mae: 3.0522\n",
            "Epoch 69/500\n",
            "1/1 [==============================] - 0s 11ms/step - loss: 3.0096 - accuracy: 0.0000e+00 - mae: 3.0096\n",
            "Epoch 70/500\n",
            "1/1 [==============================] - 0s 9ms/step - loss: 2.9625 - accuracy: 0.0000e+00 - mae: 2.9625\n",
            "Epoch 71/500\n",
            "1/1 [==============================] - 0s 12ms/step - loss: 2.9107 - accuracy: 0.0000e+00 - mae: 2.9107\n",
            "Epoch 72/500\n",
            "1/1 [==============================] - 0s 7ms/step - loss: 2.8572 - accuracy: 0.0000e+00 - mae: 2.8572\n",
            "Epoch 73/500\n",
            "1/1 [==============================] - 0s 9ms/step - loss: 2.8523 - accuracy: 0.0000e+00 - mae: 2.8523\n",
            "Epoch 74/500\n",
            "1/1 [==============================] - 0s 5ms/step - loss: 2.8290 - accuracy: 0.0000e+00 - mae: 2.8290\n",
            "Epoch 75/500\n",
            "1/1 [==============================] - 0s 11ms/step - loss: 2.7873 - accuracy: 0.0000e+00 - mae: 2.7873\n",
            "Epoch 76/500\n",
            "1/1 [==============================] - 0s 8ms/step - loss: 2.7528 - accuracy: 0.0000e+00 - mae: 2.7528\n",
            "Epoch 77/500\n",
            "1/1 [==============================] - 0s 4ms/step - loss: 2.7351 - accuracy: 0.0000e+00 - mae: 2.7351\n",
            "Epoch 78/500\n",
            "1/1 [==============================] - 0s 4ms/step - loss: 2.7093 - accuracy: 0.0000e+00 - mae: 2.7093\n",
            "Epoch 79/500\n",
            "1/1 [==============================] - 0s 10ms/step - loss: 2.6869 - accuracy: 0.0000e+00 - mae: 2.6869\n",
            "Epoch 80/500\n",
            "1/1 [==============================] - 0s 12ms/step - loss: 2.6435 - accuracy: 0.0000e+00 - mae: 2.6435\n",
            "Epoch 81/500\n",
            "1/1 [==============================] - 0s 15ms/step - loss: 2.5944 - accuracy: 0.0000e+00 - mae: 2.5944\n",
            "Epoch 82/500\n",
            "1/1 [==============================] - 0s 9ms/step - loss: 2.5863 - accuracy: 0.0000e+00 - mae: 2.5863\n",
            "Epoch 83/500\n",
            "1/1 [==============================] - 0s 6ms/step - loss: 2.5616 - accuracy: 0.0000e+00 - mae: 2.5616\n",
            "Epoch 84/500\n",
            "1/1 [==============================] - 0s 7ms/step - loss: 2.5139 - accuracy: 0.0000e+00 - mae: 2.5139\n",
            "Epoch 85/500\n",
            "1/1 [==============================] - 0s 4ms/step - loss: 2.4632 - accuracy: 0.0000e+00 - mae: 2.4632\n",
            "Epoch 86/500\n",
            "1/1 [==============================] - 0s 8ms/step - loss: 2.4364 - accuracy: 0.0000e+00 - mae: 2.4364\n",
            "Epoch 87/500\n",
            "1/1 [==============================] - 0s 8ms/step - loss: 2.4007 - accuracy: 0.0000e+00 - mae: 2.4007\n",
            "Epoch 88/500\n",
            "1/1 [==============================] - 0s 7ms/step - loss: 2.3566 - accuracy: 0.0000e+00 - mae: 2.3566\n",
            "Epoch 89/500\n",
            "1/1 [==============================] - 0s 7ms/step - loss: 2.3044 - accuracy: 0.0000e+00 - mae: 2.3044\n",
            "Epoch 90/500\n",
            "1/1 [==============================] - 0s 8ms/step - loss: 2.2709 - accuracy: 0.0000e+00 - mae: 2.2709\n",
            "Epoch 91/500\n",
            "1/1 [==============================] - 0s 13ms/step - loss: 2.2272 - accuracy: 0.0000e+00 - mae: 2.2272\n",
            "Epoch 92/500\n",
            "1/1 [==============================] - 0s 5ms/step - loss: 2.1625 - accuracy: 0.0000e+00 - mae: 2.1625\n",
            "Epoch 93/500\n",
            "1/1 [==============================] - 0s 9ms/step - loss: 2.1175 - accuracy: 0.0000e+00 - mae: 2.1175\n",
            "Epoch 94/500\n",
            "1/1 [==============================] - 0s 7ms/step - loss: 2.0627 - accuracy: 0.0000e+00 - mae: 2.0627\n",
            "Epoch 95/500\n",
            "1/1 [==============================] - 0s 9ms/step - loss: 2.0184 - accuracy: 0.0000e+00 - mae: 2.0184\n",
            "Epoch 96/500\n",
            "1/1 [==============================] - 0s 6ms/step - loss: 1.9516 - accuracy: 0.0000e+00 - mae: 1.9516\n",
            "Epoch 97/500\n",
            "1/1 [==============================] - 0s 7ms/step - loss: 1.9081 - accuracy: 0.0000e+00 - mae: 1.9081\n",
            "Epoch 98/500\n",
            "1/1 [==============================] - 0s 8ms/step - loss: 1.8549 - accuracy: 0.0000e+00 - mae: 1.8549\n",
            "Epoch 99/500\n",
            "1/1 [==============================] - 0s 5ms/step - loss: 1.7894 - accuracy: 0.0000e+00 - mae: 1.7894\n",
            "Epoch 100/500\n",
            "1/1 [==============================] - 0s 5ms/step - loss: 1.7124 - accuracy: 0.0000e+00 - mae: 1.7124\n",
            "Epoch 101/500\n",
            "1/1 [==============================] - 0s 6ms/step - loss: 1.6230 - accuracy: 0.0000e+00 - mae: 1.6230\n",
            "Epoch 102/500\n",
            "1/1 [==============================] - 0s 6ms/step - loss: 1.5510 - accuracy: 0.0000e+00 - mae: 1.5510\n",
            "Epoch 103/500\n",
            "1/1 [==============================] - 0s 6ms/step - loss: 1.4612 - accuracy: 0.0000e+00 - mae: 1.4612\n",
            "Epoch 104/500\n",
            "1/1 [==============================] - 0s 6ms/step - loss: 1.3812 - accuracy: 0.0000e+00 - mae: 1.3812\n",
            "Epoch 105/500\n",
            "1/1 [==============================] - 0s 6ms/step - loss: 1.3104 - accuracy: 0.0000e+00 - mae: 1.3104\n",
            "Epoch 106/500\n",
            "1/1 [==============================] - 0s 10ms/step - loss: 1.2256 - accuracy: 0.0000e+00 - mae: 1.2256\n",
            "Epoch 107/500\n",
            "1/1 [==============================] - 0s 4ms/step - loss: 1.1279 - accuracy: 0.0000e+00 - mae: 1.1279\n",
            "Epoch 108/500\n",
            "1/1 [==============================] - 0s 5ms/step - loss: 1.0174 - accuracy: 0.0000e+00 - mae: 1.0174\n",
            "Epoch 109/500\n",
            "1/1 [==============================] - 0s 7ms/step - loss: 0.9451 - accuracy: 0.0000e+00 - mae: 0.9451\n",
            "Epoch 110/500\n",
            "1/1 [==============================] - 0s 8ms/step - loss: 0.8298 - accuracy: 0.0000e+00 - mae: 0.8298\n",
            "Epoch 111/500\n",
            "1/1 [==============================] - 0s 5ms/step - loss: 0.7039 - accuracy: 0.0000e+00 - mae: 0.7039\n",
            "Epoch 112/500\n",
            "1/1 [==============================] - 0s 6ms/step - loss: 0.6029 - accuracy: 0.0000e+00 - mae: 0.6029\n",
            "Epoch 113/500\n",
            "1/1 [==============================] - 0s 6ms/step - loss: 0.5075 - accuracy: 0.0000e+00 - mae: 0.5075\n",
            "Epoch 114/500\n",
            "1/1 [==============================] - 0s 9ms/step - loss: 0.3638 - accuracy: 0.0000e+00 - mae: 0.3638\n",
            "Epoch 115/500\n",
            "1/1 [==============================] - 0s 5ms/step - loss: 0.3805 - accuracy: 0.0000e+00 - mae: 0.3805\n",
            "Epoch 116/500\n",
            "1/1 [==============================] - 0s 6ms/step - loss: 0.4868 - accuracy: 0.0000e+00 - mae: 0.4868\n",
            "Epoch 117/500\n",
            "1/1 [==============================] - 0s 6ms/step - loss: 0.4146 - accuracy: 0.0000e+00 - mae: 0.4146\n",
            "Epoch 118/500\n",
            "1/1 [==============================] - 0s 11ms/step - loss: 0.5454 - accuracy: 0.0000e+00 - mae: 0.5454\n",
            "Epoch 119/500\n",
            "1/1 [==============================] - 0s 5ms/step - loss: 0.6573 - accuracy: 0.0000e+00 - mae: 0.6573\n",
            "Epoch 120/500\n",
            "1/1 [==============================] - 0s 6ms/step - loss: 0.6537 - accuracy: 0.0000e+00 - mae: 0.6537\n",
            "Epoch 121/500\n",
            "1/1 [==============================] - 0s 6ms/step - loss: 0.5467 - accuracy: 0.0000e+00 - mae: 0.5467\n",
            "Epoch 122/500\n",
            "1/1 [==============================] - 0s 5ms/step - loss: 0.4187 - accuracy: 0.0000e+00 - mae: 0.4187\n",
            "Epoch 123/500\n",
            "1/1 [==============================] - 0s 4ms/step - loss: 0.7649 - accuracy: 0.0000e+00 - mae: 0.7649\n",
            "Epoch 124/500\n",
            "1/1 [==============================] - 0s 4ms/step - loss: 0.7525 - accuracy: 0.0000e+00 - mae: 0.7525\n",
            "Epoch 125/500\n",
            "1/1 [==============================] - 0s 7ms/step - loss: 0.4654 - accuracy: 0.0000e+00 - mae: 0.4654\n",
            "Epoch 126/500\n",
            "1/1 [==============================] - 0s 8ms/step - loss: 0.6440 - accuracy: 0.0000e+00 - mae: 0.6440\n",
            "Epoch 127/500\n",
            "1/1 [==============================] - 0s 7ms/step - loss: 0.8190 - accuracy: 0.0000e+00 - mae: 0.8190\n",
            "Epoch 128/500\n",
            "1/1 [==============================] - 0s 8ms/step - loss: 0.8078 - accuracy: 0.0000e+00 - mae: 0.8078\n",
            "Epoch 129/500\n",
            "1/1 [==============================] - 0s 11ms/step - loss: 0.6363 - accuracy: 0.0000e+00 - mae: 0.6363\n",
            "Epoch 130/500\n",
            "1/1 [==============================] - 0s 7ms/step - loss: 0.3224 - accuracy: 0.0000e+00 - mae: 0.3224\n",
            "Epoch 131/500\n",
            "1/1 [==============================] - 0s 7ms/step - loss: 0.5444 - accuracy: 0.0000e+00 - mae: 0.5444\n",
            "Epoch 132/500\n",
            "1/1 [==============================] - 0s 7ms/step - loss: 0.7155 - accuracy: 0.0000e+00 - mae: 0.7155\n",
            "Epoch 133/500\n",
            "1/1 [==============================] - 0s 7ms/step - loss: 0.6544 - accuracy: 0.0000e+00 - mae: 0.6544\n",
            "Epoch 134/500\n",
            "1/1 [==============================] - 0s 5ms/step - loss: 0.3946 - accuracy: 0.0000e+00 - mae: 0.3946\n",
            "Epoch 135/500\n",
            "1/1 [==============================] - 0s 7ms/step - loss: 0.4891 - accuracy: 0.0000e+00 - mae: 0.4891\n",
            "Epoch 136/500\n",
            "1/1 [==============================] - 0s 11ms/step - loss: 0.6672 - accuracy: 0.0000e+00 - mae: 0.6672\n",
            "Epoch 137/500\n",
            "1/1 [==============================] - 0s 7ms/step - loss: 0.6872 - accuracy: 0.0000e+00 - mae: 0.6872\n",
            "Epoch 138/500\n",
            "1/1 [==============================] - 0s 5ms/step - loss: 0.5703 - accuracy: 0.0000e+00 - mae: 0.5703\n",
            "Epoch 139/500\n",
            "1/1 [==============================] - 0s 8ms/step - loss: 0.3310 - accuracy: 0.0000e+00 - mae: 0.3310\n",
            "Epoch 140/500\n",
            "1/1 [==============================] - 0s 8ms/step - loss: 0.5059 - accuracy: 0.0000e+00 - mae: 0.5059\n",
            "Epoch 141/500\n",
            "1/1 [==============================] - 0s 8ms/step - loss: 0.6732 - accuracy: 0.0000e+00 - mae: 0.6732\n",
            "Epoch 142/500\n",
            "1/1 [==============================] - 0s 5ms/step - loss: 0.6621 - accuracy: 0.0000e+00 - mae: 0.6621\n",
            "Epoch 143/500\n",
            "1/1 [==============================] - 0s 8ms/step - loss: 0.4949 - accuracy: 0.0000e+00 - mae: 0.4949\n",
            "Epoch 144/500\n",
            "1/1 [==============================] - 0s 8ms/step - loss: 0.2901 - accuracy: 0.0000e+00 - mae: 0.2901\n",
            "Epoch 145/500\n",
            "1/1 [==============================] - 0s 5ms/step - loss: 0.4827 - accuracy: 0.0000e+00 - mae: 0.4827\n",
            "Epoch 146/500\n",
            "1/1 [==============================] - 0s 5ms/step - loss: 0.5993 - accuracy: 0.0000e+00 - mae: 0.5993\n",
            "Epoch 147/500\n",
            "1/1 [==============================] - 0s 7ms/step - loss: 0.5282 - accuracy: 0.0000e+00 - mae: 0.5282\n",
            "Epoch 148/500\n",
            "1/1 [==============================] - 0s 8ms/step - loss: 0.3050 - accuracy: 0.0000e+00 - mae: 0.3050\n",
            "Epoch 149/500\n",
            "1/1 [==============================] - 0s 10ms/step - loss: 0.3097 - accuracy: 0.0000e+00 - mae: 0.3097\n",
            "Epoch 150/500\n",
            "1/1 [==============================] - 0s 5ms/step - loss: 0.4459 - accuracy: 0.0000e+00 - mae: 0.4459\n",
            "Epoch 151/500\n",
            "1/1 [==============================] - 0s 8ms/step - loss: 0.4133 - accuracy: 0.0000e+00 - mae: 0.4133\n",
            "Epoch 152/500\n",
            "1/1 [==============================] - 0s 10ms/step - loss: 0.2429 - accuracy: 0.0000e+00 - mae: 0.2429\n",
            "Epoch 153/500\n",
            "1/1 [==============================] - 0s 9ms/step - loss: 0.2555 - accuracy: 0.0000e+00 - mae: 0.2555\n",
            "Epoch 154/500\n",
            "1/1 [==============================] - 0s 9ms/step - loss: 0.3080 - accuracy: 0.0000e+00 - mae: 0.3080\n",
            "Epoch 155/500\n",
            "1/1 [==============================] - 0s 5ms/step - loss: 0.2473 - accuracy: 0.0000e+00 - mae: 0.2473\n",
            "Epoch 156/500\n",
            "1/1 [==============================] - 0s 9ms/step - loss: 0.2257 - accuracy: 0.0000e+00 - mae: 0.2257\n",
            "Epoch 157/500\n",
            "1/1 [==============================] - 0s 4ms/step - loss: 0.2676 - accuracy: 0.0000e+00 - mae: 0.2676\n",
            "Epoch 158/500\n",
            "1/1 [==============================] - 0s 8ms/step - loss: 0.2628 - accuracy: 0.0000e+00 - mae: 0.2628\n",
            "Epoch 159/500\n",
            "1/1 [==============================] - 0s 5ms/step - loss: 0.2147 - accuracy: 0.0000e+00 - mae: 0.2147\n",
            "Epoch 160/500\n",
            "1/1 [==============================] - 0s 9ms/step - loss: 0.2420 - accuracy: 0.0000e+00 - mae: 0.2420\n",
            "Epoch 161/500\n",
            "1/1 [==============================] - 0s 4ms/step - loss: 0.2507 - accuracy: 0.0000e+00 - mae: 0.2507\n",
            "Epoch 162/500\n",
            "1/1 [==============================] - 0s 5ms/step - loss: 0.1963 - accuracy: 0.0000e+00 - mae: 0.1963\n",
            "Epoch 163/500\n",
            "1/1 [==============================] - 0s 8ms/step - loss: 0.2102 - accuracy: 0.0000e+00 - mae: 0.2102\n",
            "Epoch 164/500\n",
            "1/1 [==============================] - 0s 9ms/step - loss: 0.2082 - accuracy: 0.0000e+00 - mae: 0.2082\n",
            "Epoch 165/500\n",
            "1/1 [==============================] - 0s 4ms/step - loss: 0.1730 - accuracy: 0.0000e+00 - mae: 0.1730\n",
            "Epoch 166/500\n",
            "1/1 [==============================] - 0s 4ms/step - loss: 0.2421 - accuracy: 0.0000e+00 - mae: 0.2421\n",
            "Epoch 167/500\n",
            "1/1 [==============================] - 0s 8ms/step - loss: 0.2317 - accuracy: 0.0000e+00 - mae: 0.2317\n",
            "Epoch 168/500\n",
            "1/1 [==============================] - 0s 5ms/step - loss: 0.1678 - accuracy: 0.0000e+00 - mae: 0.1678\n",
            "Epoch 169/500\n",
            "1/1 [==============================] - 0s 7ms/step - loss: 0.2243 - accuracy: 0.0000e+00 - mae: 0.2243\n",
            "Epoch 170/500\n",
            "1/1 [==============================] - 0s 5ms/step - loss: 0.1898 - accuracy: 0.0000e+00 - mae: 0.1898\n",
            "Epoch 171/500\n",
            "1/1 [==============================] - 0s 9ms/step - loss: 0.1852 - accuracy: 0.0000e+00 - mae: 0.1852\n",
            "Epoch 172/500\n",
            "1/1 [==============================] - 0s 10ms/step - loss: 0.1796 - accuracy: 0.0000e+00 - mae: 0.1796\n",
            "Epoch 173/500\n",
            "1/1 [==============================] - 0s 10ms/step - loss: 0.1295 - accuracy: 0.0000e+00 - mae: 0.1295\n",
            "Epoch 174/500\n",
            "1/1 [==============================] - 0s 4ms/step - loss: 0.1201 - accuracy: 0.0000e+00 - mae: 0.1201\n",
            "Epoch 175/500\n",
            "1/1 [==============================] - 0s 4ms/step - loss: 0.1273 - accuracy: 0.0000e+00 - mae: 0.1273\n",
            "Epoch 176/500\n",
            "1/1 [==============================] - 0s 14ms/step - loss: 0.1245 - accuracy: 0.0000e+00 - mae: 0.1245\n",
            "Epoch 177/500\n",
            "1/1 [==============================] - 0s 5ms/step - loss: 0.1048 - accuracy: 0.0000e+00 - mae: 0.1048\n",
            "Epoch 178/500\n",
            "1/1 [==============================] - 0s 21ms/step - loss: 0.1514 - accuracy: 0.0000e+00 - mae: 0.1514\n",
            "Epoch 179/500\n",
            "1/1 [==============================] - 0s 31ms/step - loss: 0.1494 - accuracy: 0.0000e+00 - mae: 0.1494\n",
            "Epoch 180/500\n",
            "1/1 [==============================] - 0s 10ms/step - loss: 0.1128 - accuracy: 0.0000e+00 - mae: 0.1128\n",
            "Epoch 181/500\n",
            "1/1 [==============================] - 0s 10ms/step - loss: 0.1419 - accuracy: 0.0000e+00 - mae: 0.1419\n",
            "Epoch 182/500\n",
            "1/1 [==============================] - 0s 6ms/step - loss: 0.0849 - accuracy: 0.0000e+00 - mae: 0.0849\n",
            "Epoch 183/500\n",
            "1/1 [==============================] - 0s 6ms/step - loss: 0.1497 - accuracy: 0.0000e+00 - mae: 0.1497\n",
            "Epoch 184/500\n",
            "1/1 [==============================] - 0s 16ms/step - loss: 0.1298 - accuracy: 0.0000e+00 - mae: 0.1298\n",
            "Epoch 185/500\n",
            "1/1 [==============================] - 0s 5ms/step - loss: 0.1008 - accuracy: 0.0000e+00 - mae: 0.1008\n",
            "Epoch 186/500\n",
            "1/1 [==============================] - 0s 18ms/step - loss: 0.1236 - accuracy: 0.0000e+00 - mae: 0.1236\n",
            "Epoch 187/500\n",
            "1/1 [==============================] - 0s 17ms/step - loss: 0.1640 - accuracy: 0.0000e+00 - mae: 0.1640\n",
            "Epoch 188/500\n",
            "1/1 [==============================] - 0s 10ms/step - loss: 0.1292 - accuracy: 0.0000e+00 - mae: 0.1292\n",
            "Epoch 189/500\n",
            "1/1 [==============================] - 0s 5ms/step - loss: 0.1195 - accuracy: 0.0000e+00 - mae: 0.1195\n",
            "Epoch 190/500\n",
            "1/1 [==============================] - 0s 7ms/step - loss: 0.1194 - accuracy: 0.0000e+00 - mae: 0.1194\n",
            "Epoch 191/500\n",
            "1/1 [==============================] - 0s 8ms/step - loss: 0.1189 - accuracy: 0.0000e+00 - mae: 0.1189\n",
            "Epoch 192/500\n",
            "1/1 [==============================] - 0s 19ms/step - loss: 0.0902 - accuracy: 0.0000e+00 - mae: 0.0902\n",
            "Epoch 193/500\n",
            "1/1 [==============================] - 0s 15ms/step - loss: 0.0771 - accuracy: 0.0000e+00 - mae: 0.0771\n",
            "Epoch 194/500\n",
            "1/1 [==============================] - 0s 4ms/step - loss: 0.0955 - accuracy: 0.0000e+00 - mae: 0.0955\n",
            "Epoch 195/500\n",
            "1/1 [==============================] - 0s 26ms/step - loss: 0.0650 - accuracy: 0.0000e+00 - mae: 0.0650\n",
            "Epoch 196/500\n",
            "1/1 [==============================] - 0s 7ms/step - loss: 0.1145 - accuracy: 0.0000e+00 - mae: 0.1145\n",
            "Epoch 197/500\n",
            "1/1 [==============================] - 0s 16ms/step - loss: 0.1391 - accuracy: 0.0000e+00 - mae: 0.1391\n",
            "Epoch 198/500\n",
            "1/1 [==============================] - 0s 6ms/step - loss: 0.1243 - accuracy: 0.0000e+00 - mae: 0.1243\n",
            "Epoch 199/500\n",
            "1/1 [==============================] - 0s 15ms/step - loss: 0.0626 - accuracy: 0.0000e+00 - mae: 0.0626\n",
            "Epoch 200/500\n",
            "1/1 [==============================] - 0s 8ms/step - loss: 0.1052 - accuracy: 0.0000e+00 - mae: 0.1052\n",
            "Epoch 201/500\n",
            "1/1 [==============================] - 0s 10ms/step - loss: 0.0484 - accuracy: 0.0000e+00 - mae: 0.0484\n",
            "Epoch 202/500\n",
            "1/1 [==============================] - 0s 6ms/step - loss: 0.0944 - accuracy: 0.0000e+00 - mae: 0.0944\n",
            "Epoch 203/500\n",
            "1/1 [==============================] - 0s 8ms/step - loss: 0.0736 - accuracy: 0.0000e+00 - mae: 0.0736\n",
            "Epoch 204/500\n",
            "1/1 [==============================] - 0s 5ms/step - loss: 0.0676 - accuracy: 0.0000e+00 - mae: 0.0676\n",
            "Epoch 205/500\n",
            "1/1 [==============================] - 0s 8ms/step - loss: 0.0718 - accuracy: 0.0000e+00 - mae: 0.0718\n",
            "Epoch 206/500\n",
            "1/1 [==============================] - 0s 8ms/step - loss: 0.0614 - accuracy: 0.0000e+00 - mae: 0.0614\n",
            "Epoch 207/500\n",
            "1/1 [==============================] - 0s 4ms/step - loss: 0.0561 - accuracy: 0.0000e+00 - mae: 0.0561\n",
            "Epoch 208/500\n",
            "1/1 [==============================] - 0s 7ms/step - loss: 0.0452 - accuracy: 0.0000e+00 - mae: 0.0452\n",
            "Epoch 209/500\n",
            "1/1 [==============================] - 0s 7ms/step - loss: 0.0578 - accuracy: 0.0000e+00 - mae: 0.0578\n",
            "Epoch 210/500\n",
            "1/1 [==============================] - 0s 5ms/step - loss: 0.0686 - accuracy: 0.0000e+00 - mae: 0.0686\n",
            "Epoch 211/500\n",
            "1/1 [==============================] - 0s 9ms/step - loss: 0.0643 - accuracy: 0.0000e+00 - mae: 0.0643\n",
            "Epoch 212/500\n",
            "1/1 [==============================] - 0s 8ms/step - loss: 0.0743 - accuracy: 0.0000e+00 - mae: 0.0743\n",
            "Epoch 213/500\n",
            "1/1 [==============================] - 0s 10ms/step - loss: 0.0803 - accuracy: 0.0000e+00 - mae: 0.0803\n",
            "Epoch 214/500\n",
            "1/1 [==============================] - 0s 5ms/step - loss: 0.0658 - accuracy: 0.0000e+00 - mae: 0.0658\n",
            "Epoch 215/500\n",
            "1/1 [==============================] - 0s 9ms/step - loss: 0.0725 - accuracy: 0.0000e+00 - mae: 0.0725\n",
            "Epoch 216/500\n",
            "1/1 [==============================] - 0s 5ms/step - loss: 0.0372 - accuracy: 0.0000e+00 - mae: 0.0372\n",
            "Epoch 217/500\n",
            "1/1 [==============================] - 0s 8ms/step - loss: 0.0799 - accuracy: 0.0000e+00 - mae: 0.0799\n",
            "Epoch 218/500\n",
            "1/1 [==============================] - 0s 6ms/step - loss: 0.0545 - accuracy: 0.0000e+00 - mae: 0.0545\n",
            "Epoch 219/500\n",
            "1/1 [==============================] - 0s 8ms/step - loss: 0.0623 - accuracy: 0.0000e+00 - mae: 0.0623\n",
            "Epoch 220/500\n",
            "1/1 [==============================] - 0s 5ms/step - loss: 0.1022 - accuracy: 0.0000e+00 - mae: 0.1022\n",
            "Epoch 221/500\n",
            "1/1 [==============================] - 0s 8ms/step - loss: 0.0539 - accuracy: 0.0000e+00 - mae: 0.0539\n",
            "Epoch 222/500\n",
            "1/1 [==============================] - 0s 8ms/step - loss: 0.1321 - accuracy: 0.0000e+00 - mae: 0.1321\n",
            "Epoch 223/500\n",
            "1/1 [==============================] - 0s 10ms/step - loss: 0.1077 - accuracy: 0.0000e+00 - mae: 0.1077\n",
            "Epoch 224/500\n",
            "1/1 [==============================] - 0s 5ms/step - loss: 0.0885 - accuracy: 0.0000e+00 - mae: 0.0885\n",
            "Epoch 225/500\n",
            "1/1 [==============================] - 0s 5ms/step - loss: 0.1495 - accuracy: 0.0000e+00 - mae: 0.1495\n",
            "Epoch 226/500\n",
            "1/1 [==============================] - 0s 12ms/step - loss: 0.0458 - accuracy: 0.0000e+00 - mae: 0.0458\n",
            "Epoch 227/500\n",
            "1/1 [==============================] - 0s 5ms/step - loss: 0.1464 - accuracy: 0.0000e+00 - mae: 0.1464\n",
            "Epoch 228/500\n",
            "1/1 [==============================] - 0s 12ms/step - loss: 0.1342 - accuracy: 0.0000e+00 - mae: 0.1342\n",
            "Epoch 229/500\n",
            "1/1 [==============================] - 0s 10ms/step - loss: 0.0652 - accuracy: 0.0000e+00 - mae: 0.0652\n",
            "Epoch 230/500\n",
            "1/1 [==============================] - 0s 5ms/step - loss: 0.1025 - accuracy: 0.0000e+00 - mae: 0.1025\n",
            "Epoch 231/500\n",
            "1/1 [==============================] - 0s 6ms/step - loss: 0.0316 - accuracy: 0.0000e+00 - mae: 0.0316\n",
            "Epoch 232/500\n",
            "1/1 [==============================] - 0s 11ms/step - loss: 0.1370 - accuracy: 0.0000e+00 - mae: 0.1370\n",
            "Epoch 233/500\n",
            "1/1 [==============================] - 0s 5ms/step - loss: 0.0785 - accuracy: 0.0000e+00 - mae: 0.0785\n",
            "Epoch 234/500\n",
            "1/1 [==============================] - 0s 8ms/step - loss: 0.1438 - accuracy: 0.0000e+00 - mae: 0.1438\n",
            "Epoch 235/500\n",
            "1/1 [==============================] - 0s 13ms/step - loss: 0.1812 - accuracy: 0.0000e+00 - mae: 0.1812\n",
            "Epoch 236/500\n",
            "1/1 [==============================] - 0s 5ms/step - loss: 0.0760 - accuracy: 0.0000e+00 - mae: 0.0760\n",
            "Epoch 237/500\n",
            "1/1 [==============================] - 0s 10ms/step - loss: 0.1618 - accuracy: 0.0000e+00 - mae: 0.1618\n",
            "Epoch 238/500\n",
            "1/1 [==============================] - 0s 5ms/step - loss: 0.1858 - accuracy: 0.0000e+00 - mae: 0.1858\n",
            "Epoch 239/500\n",
            "1/1 [==============================] - 0s 7ms/step - loss: 0.0619 - accuracy: 0.0000e+00 - mae: 0.0619\n",
            "Epoch 240/500\n",
            "1/1 [==============================] - 0s 11ms/step - loss: 0.1685 - accuracy: 0.0000e+00 - mae: 0.1685\n",
            "Epoch 241/500\n",
            "1/1 [==============================] - 0s 5ms/step - loss: 0.2179 - accuracy: 0.0000e+00 - mae: 0.2179\n",
            "Epoch 242/500\n",
            "1/1 [==============================] - 0s 5ms/step - loss: 0.1196 - accuracy: 0.0000e+00 - mae: 0.1196\n",
            "Epoch 243/500\n",
            "1/1 [==============================] - 0s 7ms/step - loss: 0.2491 - accuracy: 0.0000e+00 - mae: 0.2491\n",
            "Epoch 244/500\n",
            "1/1 [==============================] - 0s 7ms/step - loss: 0.2886 - accuracy: 0.0000e+00 - mae: 0.2886\n",
            "Epoch 245/500\n",
            "1/1 [==============================] - 0s 8ms/step - loss: 0.2485 - accuracy: 0.0000e+00 - mae: 0.2485\n",
            "Epoch 246/500\n",
            "1/1 [==============================] - 0s 5ms/step - loss: 0.1170 - accuracy: 0.0000e+00 - mae: 0.1170\n",
            "Epoch 247/500\n",
            "1/1 [==============================] - 0s 7ms/step - loss: 0.2878 - accuracy: 0.0000e+00 - mae: 0.2878\n",
            "Epoch 248/500\n",
            "1/1 [==============================] - 0s 9ms/step - loss: 0.3213 - accuracy: 0.0000e+00 - mae: 0.3213\n",
            "Epoch 249/500\n",
            "1/1 [==============================] - 0s 11ms/step - loss: 0.2293 - accuracy: 0.0000e+00 - mae: 0.2293\n",
            "Epoch 250/500\n",
            "1/1 [==============================] - 0s 5ms/step - loss: 0.0894 - accuracy: 0.0000e+00 - mae: 0.0894\n",
            "Epoch 251/500\n",
            "1/1 [==============================] - 0s 9ms/step - loss: 0.2588 - accuracy: 0.0000e+00 - mae: 0.2588\n",
            "Epoch 252/500\n",
            "1/1 [==============================] - 0s 5ms/step - loss: 0.2703 - accuracy: 0.0000e+00 - mae: 0.2703\n",
            "Epoch 253/500\n",
            "1/1 [==============================] - 0s 8ms/step - loss: 0.1865 - accuracy: 0.0000e+00 - mae: 0.1865\n",
            "Epoch 254/500\n",
            "1/1 [==============================] - 0s 5ms/step - loss: 0.1310 - accuracy: 0.0000e+00 - mae: 0.1310\n",
            "Epoch 255/500\n",
            "1/1 [==============================] - 0s 9ms/step - loss: 0.1904 - accuracy: 0.0000e+00 - mae: 0.1904\n",
            "Epoch 256/500\n",
            "1/1 [==============================] - 0s 5ms/step - loss: 0.0787 - accuracy: 0.0000e+00 - mae: 0.0787\n",
            "Epoch 257/500\n",
            "1/1 [==============================] - 0s 6ms/step - loss: 0.1832 - accuracy: 0.0000e+00 - mae: 0.1832\n",
            "Epoch 258/500\n",
            "1/1 [==============================] - 0s 18ms/step - loss: 0.2572 - accuracy: 0.0000e+00 - mae: 0.2572\n",
            "Epoch 259/500\n",
            "1/1 [==============================] - 0s 8ms/step - loss: 0.1651 - accuracy: 0.0000e+00 - mae: 0.1651\n",
            "Epoch 260/500\n",
            "1/1 [==============================] - 0s 6ms/step - loss: 0.0895 - accuracy: 0.0000e+00 - mae: 0.0895\n",
            "Epoch 261/500\n",
            "1/1 [==============================] - 0s 5ms/step - loss: 0.1553 - accuracy: 0.0000e+00 - mae: 0.1553\n",
            "Epoch 262/500\n",
            "1/1 [==============================] - 0s 8ms/step - loss: 0.0674 - accuracy: 0.0000e+00 - mae: 0.0674\n",
            "Epoch 263/500\n",
            "1/1 [==============================] - 0s 5ms/step - loss: 0.1548 - accuracy: 0.0000e+00 - mae: 0.1548\n",
            "Epoch 264/500\n",
            "1/1 [==============================] - 0s 7ms/step - loss: 0.2082 - accuracy: 0.0000e+00 - mae: 0.2082\n",
            "Epoch 265/500\n",
            "1/1 [==============================] - 0s 5ms/step - loss: 0.1174 - accuracy: 0.0000e+00 - mae: 0.1174\n",
            "Epoch 266/500\n",
            "1/1 [==============================] - 0s 8ms/step - loss: 0.1078 - accuracy: 0.0000e+00 - mae: 0.1078\n",
            "Epoch 267/500\n",
            "1/1 [==============================] - 0s 5ms/step - loss: 0.1819 - accuracy: 0.0000e+00 - mae: 0.1819\n",
            "Epoch 268/500\n",
            "1/1 [==============================] - 0s 6ms/step - loss: 0.1042 - accuracy: 0.0000e+00 - mae: 0.1042\n",
            "Epoch 269/500\n",
            "1/1 [==============================] - 0s 10ms/step - loss: 0.1272 - accuracy: 0.0000e+00 - mae: 0.1272\n",
            "Epoch 270/500\n",
            "1/1 [==============================] - 0s 15ms/step - loss: 0.2004 - accuracy: 0.0000e+00 - mae: 0.2004\n",
            "Epoch 271/500\n",
            "1/1 [==============================] - 0s 7ms/step - loss: 0.1308 - accuracy: 0.0000e+00 - mae: 0.1308\n",
            "Epoch 272/500\n",
            "1/1 [==============================] - 0s 7ms/step - loss: 0.1044 - accuracy: 0.0000e+00 - mae: 0.1044\n",
            "Epoch 273/500\n",
            "1/1 [==============================] - 0s 6ms/step - loss: 0.1452 - accuracy: 0.0000e+00 - mae: 0.1452\n",
            "Epoch 274/500\n",
            "1/1 [==============================] - 0s 21ms/step - loss: 0.0564 - accuracy: 0.0000e+00 - mae: 0.0564\n",
            "Epoch 275/500\n",
            "1/1 [==============================] - 0s 15ms/step - loss: 0.1268 - accuracy: 0.0000e+00 - mae: 0.1268\n",
            "Epoch 276/500\n",
            "1/1 [==============================] - 0s 36ms/step - loss: 0.1446 - accuracy: 0.0000e+00 - mae: 0.1446\n",
            "Epoch 277/500\n",
            "1/1 [==============================] - 0s 12ms/step - loss: 0.0422 - accuracy: 0.0000e+00 - mae: 0.0422\n",
            "Epoch 278/500\n",
            "1/1 [==============================] - 0s 11ms/step - loss: 0.1427 - accuracy: 0.0000e+00 - mae: 0.1427\n",
            "Epoch 279/500\n",
            "1/1 [==============================] - 0s 22ms/step - loss: 0.1493 - accuracy: 0.0000e+00 - mae: 0.1493\n",
            "Epoch 280/500\n",
            "1/1 [==============================] - 0s 7ms/step - loss: 0.0445 - accuracy: 0.0000e+00 - mae: 0.0445\n",
            "Epoch 281/500\n",
            "1/1 [==============================] - 0s 23ms/step - loss: 0.1663 - accuracy: 0.0000e+00 - mae: 0.1663\n",
            "Epoch 282/500\n",
            "1/1 [==============================] - 0s 8ms/step - loss: 0.1982 - accuracy: 0.0000e+00 - mae: 0.1982\n",
            "Epoch 283/500\n",
            "1/1 [==============================] - 0s 7ms/step - loss: 0.1022 - accuracy: 0.0000e+00 - mae: 0.1022\n",
            "Epoch 284/500\n",
            "1/1 [==============================] - 0s 8ms/step - loss: 0.1264 - accuracy: 0.0000e+00 - mae: 0.1264\n",
            "Epoch 285/500\n",
            "1/1 [==============================] - 0s 5ms/step - loss: 0.2085 - accuracy: 0.0000e+00 - mae: 0.2085\n",
            "Epoch 286/500\n",
            "1/1 [==============================] - 0s 6ms/step - loss: 0.1379 - accuracy: 0.0000e+00 - mae: 0.1379\n",
            "Epoch 287/500\n",
            "1/1 [==============================] - 0s 6ms/step - loss: 0.0825 - accuracy: 0.0000e+00 - mae: 0.0825\n",
            "Epoch 288/500\n",
            "1/1 [==============================] - 0s 6ms/step - loss: 0.1332 - accuracy: 0.0000e+00 - mae: 0.1332\n",
            "Epoch 289/500\n",
            "1/1 [==============================] - 0s 7ms/step - loss: 0.0735 - accuracy: 0.0000e+00 - mae: 0.0735\n",
            "Epoch 290/500\n",
            "1/1 [==============================] - 0s 13ms/step - loss: 0.1192 - accuracy: 0.0000e+00 - mae: 0.1192\n",
            "Epoch 291/500\n",
            "1/1 [==============================] - 0s 14ms/step - loss: 0.1662 - accuracy: 0.0000e+00 - mae: 0.1662\n",
            "Epoch 292/500\n",
            "1/1 [==============================] - 0s 20ms/step - loss: 0.0706 - accuracy: 0.0000e+00 - mae: 0.0706\n",
            "Epoch 293/500\n",
            "1/1 [==============================] - 0s 16ms/step - loss: 0.1596 - accuracy: 0.0000e+00 - mae: 0.1596\n",
            "Epoch 294/500\n",
            "1/1 [==============================] - 0s 14ms/step - loss: 0.2319 - accuracy: 0.0000e+00 - mae: 0.2319\n",
            "Epoch 295/500\n",
            "1/1 [==============================] - 0s 9ms/step - loss: 0.1572 - accuracy: 0.0000e+00 - mae: 0.1572\n",
            "Epoch 296/500\n",
            "1/1 [==============================] - 0s 14ms/step - loss: 0.0820 - accuracy: 0.0000e+00 - mae: 0.0820\n",
            "Epoch 297/500\n",
            "1/1 [==============================] - 0s 14ms/step - loss: 0.1416 - accuracy: 0.0000e+00 - mae: 0.1416\n",
            "Epoch 298/500\n",
            "1/1 [==============================] - 0s 13ms/step - loss: 0.0896 - accuracy: 0.0000e+00 - mae: 0.0896\n",
            "Epoch 299/500\n",
            "1/1 [==============================] - 0s 7ms/step - loss: 0.1197 - accuracy: 0.0000e+00 - mae: 0.1197\n",
            "Epoch 300/500\n",
            "1/1 [==============================] - 0s 9ms/step - loss: 0.0930 - accuracy: 0.0000e+00 - mae: 0.0930\n",
            "Epoch 301/500\n",
            "1/1 [==============================] - 0s 8ms/step - loss: 0.0605 - accuracy: 0.0000e+00 - mae: 0.0605\n",
            "Epoch 302/500\n",
            "1/1 [==============================] - 0s 12ms/step - loss: 0.0794 - accuracy: 0.0000e+00 - mae: 0.0794\n",
            "Epoch 303/500\n",
            "1/1 [==============================] - 0s 9ms/step - loss: 0.0535 - accuracy: 0.0000e+00 - mae: 0.0535\n",
            "Epoch 304/500\n",
            "1/1 [==============================] - 0s 17ms/step - loss: 0.1194 - accuracy: 0.0000e+00 - mae: 0.1194\n",
            "Epoch 305/500\n",
            "1/1 [==============================] - 0s 9ms/step - loss: 0.0498 - accuracy: 0.0000e+00 - mae: 0.0498\n",
            "Epoch 306/500\n",
            "1/1 [==============================] - 0s 18ms/step - loss: 0.1077 - accuracy: 0.0000e+00 - mae: 0.1077\n",
            "Epoch 307/500\n",
            "1/1 [==============================] - 0s 5ms/step - loss: 0.0932 - accuracy: 0.0000e+00 - mae: 0.0932\n",
            "Epoch 308/500\n",
            "1/1 [==============================] - 0s 6ms/step - loss: 0.0726 - accuracy: 0.0000e+00 - mae: 0.0726\n",
            "Epoch 309/500\n",
            "1/1 [==============================] - 0s 18ms/step - loss: 0.0955 - accuracy: 0.0000e+00 - mae: 0.0955\n",
            "Epoch 310/500\n",
            "1/1 [==============================] - 0s 6ms/step - loss: 0.0315 - accuracy: 0.0000e+00 - mae: 0.0315\n",
            "Epoch 311/500\n",
            "1/1 [==============================] - 0s 14ms/step - loss: 0.0765 - accuracy: 0.0000e+00 - mae: 0.0765\n",
            "Epoch 312/500\n",
            "1/1 [==============================] - 0s 7ms/step - loss: 0.0471 - accuracy: 0.0000e+00 - mae: 0.0471\n",
            "Epoch 313/500\n",
            "1/1 [==============================] - 0s 9ms/step - loss: 0.0737 - accuracy: 0.0000e+00 - mae: 0.0737\n",
            "Epoch 314/500\n",
            "1/1 [==============================] - 0s 7ms/step - loss: 0.0578 - accuracy: 0.0000e+00 - mae: 0.0578\n",
            "Epoch 315/500\n",
            "1/1 [==============================] - 0s 8ms/step - loss: 0.0439 - accuracy: 0.0000e+00 - mae: 0.0439\n",
            "Epoch 316/500\n",
            "1/1 [==============================] - 0s 3ms/step - loss: 0.0477 - accuracy: 0.0000e+00 - mae: 0.0477\n",
            "Epoch 317/500\n",
            "1/1 [==============================] - 0s 10ms/step - loss: 0.0381 - accuracy: 0.0000e+00 - mae: 0.0381\n",
            "Epoch 318/500\n",
            "1/1 [==============================] - 0s 11ms/step - loss: 0.0515 - accuracy: 0.0000e+00 - mae: 0.0515\n",
            "Epoch 319/500\n",
            "1/1 [==============================] - 0s 8ms/step - loss: 0.0939 - accuracy: 0.0000e+00 - mae: 0.0939\n",
            "Epoch 320/500\n",
            "1/1 [==============================] - 0s 8ms/step - loss: 0.0347 - accuracy: 0.0000e+00 - mae: 0.0347\n",
            "Epoch 321/500\n",
            "1/1 [==============================] - 0s 7ms/step - loss: 0.1596 - accuracy: 0.0000e+00 - mae: 0.1596\n",
            "Epoch 322/500\n",
            "1/1 [==============================] - 0s 7ms/step - loss: 0.1848 - accuracy: 0.0000e+00 - mae: 0.1848\n",
            "Epoch 323/500\n",
            "1/1 [==============================] - 0s 5ms/step - loss: 0.0651 - accuracy: 0.0000e+00 - mae: 0.0651\n",
            "Epoch 324/500\n",
            "1/1 [==============================] - 0s 9ms/step - loss: 0.1447 - accuracy: 0.0000e+00 - mae: 0.1447\n",
            "Epoch 325/500\n",
            "1/1 [==============================] - 0s 7ms/step - loss: 0.2107 - accuracy: 0.0000e+00 - mae: 0.2107\n",
            "Epoch 326/500\n",
            "1/1 [==============================] - 0s 5ms/step - loss: 0.1317 - accuracy: 0.0000e+00 - mae: 0.1317\n",
            "Epoch 327/500\n",
            "1/1 [==============================] - 0s 15ms/step - loss: 0.1512 - accuracy: 0.0000e+00 - mae: 0.1512\n",
            "Epoch 328/500\n",
            "1/1 [==============================] - 0s 6ms/step - loss: 0.1809 - accuracy: 0.0000e+00 - mae: 0.1809\n",
            "Epoch 329/500\n",
            "1/1 [==============================] - 0s 6ms/step - loss: 0.1555 - accuracy: 0.0000e+00 - mae: 0.1555\n",
            "Epoch 330/500\n",
            "1/1 [==============================] - 0s 8ms/step - loss: 0.1434 - accuracy: 0.0000e+00 - mae: 0.1434\n",
            "Epoch 331/500\n",
            "1/1 [==============================] - 0s 15ms/step - loss: 0.1840 - accuracy: 0.0000e+00 - mae: 0.1840\n",
            "Epoch 332/500\n",
            "1/1 [==============================] - 0s 9ms/step - loss: 0.0930 - accuracy: 0.0000e+00 - mae: 0.0930\n",
            "Epoch 333/500\n",
            "1/1 [==============================] - 0s 28ms/step - loss: 0.1221 - accuracy: 0.0000e+00 - mae: 0.1221\n",
            "Epoch 334/500\n",
            "1/1 [==============================] - 0s 7ms/step - loss: 0.1846 - accuracy: 0.0000e+00 - mae: 0.1846\n",
            "Epoch 335/500\n",
            "1/1 [==============================] - 0s 8ms/step - loss: 0.1106 - accuracy: 0.0000e+00 - mae: 0.1106\n",
            "Epoch 336/500\n",
            "1/1 [==============================] - 0s 10ms/step - loss: 0.0938 - accuracy: 0.0000e+00 - mae: 0.0938\n",
            "Epoch 337/500\n",
            "1/1 [==============================] - 0s 6ms/step - loss: 0.1380 - accuracy: 0.0000e+00 - mae: 0.1380\n",
            "Epoch 338/500\n",
            "1/1 [==============================] - 0s 8ms/step - loss: 0.0441 - accuracy: 0.0000e+00 - mae: 0.0441\n",
            "Epoch 339/500\n",
            "1/1 [==============================] - 0s 15ms/step - loss: 0.1757 - accuracy: 0.0000e+00 - mae: 0.1757\n",
            "Epoch 340/500\n",
            "1/1 [==============================] - 0s 11ms/step - loss: 0.2377 - accuracy: 0.0000e+00 - mae: 0.2377\n",
            "Epoch 341/500\n",
            "1/1 [==============================] - 0s 12ms/step - loss: 0.1569 - accuracy: 0.0000e+00 - mae: 0.1569\n",
            "Epoch 342/500\n",
            "1/1 [==============================] - 0s 10ms/step - loss: 0.0564 - accuracy: 0.0000e+00 - mae: 0.0564\n",
            "Epoch 343/500\n",
            "1/1 [==============================] - 0s 15ms/step - loss: 0.1094 - accuracy: 0.0000e+00 - mae: 0.1094\n",
            "Epoch 344/500\n",
            "1/1 [==============================] - 0s 8ms/step - loss: 0.0320 - accuracy: 0.0000e+00 - mae: 0.0320\n",
            "Epoch 345/500\n",
            "1/1 [==============================] - 0s 7ms/step - loss: 0.1697 - accuracy: 0.0000e+00 - mae: 0.1697\n",
            "Epoch 346/500\n",
            "1/1 [==============================] - 0s 11ms/step - loss: 0.2174 - accuracy: 0.0000e+00 - mae: 0.2174\n",
            "Epoch 347/500\n",
            "1/1 [==============================] - 0s 18ms/step - loss: 0.1350 - accuracy: 0.0000e+00 - mae: 0.1350\n",
            "Epoch 348/500\n",
            "1/1 [==============================] - 0s 15ms/step - loss: 0.0804 - accuracy: 0.0000e+00 - mae: 0.0804\n",
            "Epoch 349/500\n",
            "1/1 [==============================] - 0s 7ms/step - loss: 0.1366 - accuracy: 0.0000e+00 - mae: 0.1366\n",
            "Epoch 350/500\n",
            "1/1 [==============================] - 0s 6ms/step - loss: 0.0646 - accuracy: 0.0000e+00 - mae: 0.0646\n",
            "Epoch 351/500\n",
            "1/1 [==============================] - 0s 9ms/step - loss: 0.1439 - accuracy: 0.0000e+00 - mae: 0.1439\n",
            "Epoch 352/500\n",
            "1/1 [==============================] - 0s 4ms/step - loss: 0.2117 - accuracy: 0.0000e+00 - mae: 0.2117\n",
            "Epoch 353/500\n",
            "1/1 [==============================] - 0s 4ms/step - loss: 0.1503 - accuracy: 0.0000e+00 - mae: 0.1503\n",
            "Epoch 354/500\n",
            "1/1 [==============================] - 0s 9ms/step - loss: 0.1156 - accuracy: 0.0000e+00 - mae: 0.1156\n",
            "Epoch 355/500\n",
            "1/1 [==============================] - 0s 9ms/step - loss: 0.1286 - accuracy: 0.0000e+00 - mae: 0.1286\n",
            "Epoch 356/500\n",
            "1/1 [==============================] - 0s 9ms/step - loss: 0.0864 - accuracy: 0.0000e+00 - mae: 0.0864\n",
            "Epoch 357/500\n",
            "1/1 [==============================] - 0s 8ms/step - loss: 0.1888 - accuracy: 0.0000e+00 - mae: 0.1888\n",
            "Epoch 358/500\n",
            "1/1 [==============================] - 0s 11ms/step - loss: 0.2255 - accuracy: 0.0000e+00 - mae: 0.2255\n",
            "Epoch 359/500\n",
            "1/1 [==============================] - 0s 9ms/step - loss: 0.1206 - accuracy: 0.0000e+00 - mae: 0.1206\n",
            "Epoch 360/500\n",
            "1/1 [==============================] - 0s 11ms/step - loss: 0.1092 - accuracy: 0.0000e+00 - mae: 0.1092\n",
            "Epoch 361/500\n",
            "1/1 [==============================] - 0s 11ms/step - loss: 0.1804 - accuracy: 0.0000e+00 - mae: 0.1804\n",
            "Epoch 362/500\n",
            "1/1 [==============================] - 0s 23ms/step - loss: 0.1108 - accuracy: 0.0000e+00 - mae: 0.1108\n",
            "Epoch 363/500\n",
            "1/1 [==============================] - 0s 8ms/step - loss: 0.0862 - accuracy: 0.0000e+00 - mae: 0.0862\n",
            "Epoch 364/500\n",
            "1/1 [==============================] - 0s 18ms/step - loss: 0.1285 - accuracy: 0.0000e+00 - mae: 0.1285\n",
            "Epoch 365/500\n",
            "1/1 [==============================] - 0s 13ms/step - loss: 0.0555 - accuracy: 0.0000e+00 - mae: 0.0555\n",
            "Epoch 366/500\n",
            "1/1 [==============================] - 0s 15ms/step - loss: 0.1377 - accuracy: 0.0000e+00 - mae: 0.1377\n",
            "Epoch 367/500\n",
            "1/1 [==============================] - 0s 8ms/step - loss: 0.1794 - accuracy: 0.0000e+00 - mae: 0.1794\n",
            "Epoch 368/500\n",
            "1/1 [==============================] - 0s 16ms/step - loss: 0.1068 - accuracy: 0.0000e+00 - mae: 0.1068\n",
            "Epoch 369/500\n",
            "1/1 [==============================] - 0s 10ms/step - loss: 0.0907 - accuracy: 0.0000e+00 - mae: 0.0907\n",
            "Epoch 370/500\n",
            "1/1 [==============================] - 0s 4ms/step - loss: 0.1364 - accuracy: 0.0000e+00 - mae: 0.1364\n",
            "Epoch 371/500\n",
            "1/1 [==============================] - 0s 16ms/step - loss: 0.0643 - accuracy: 0.0000e+00 - mae: 0.0643\n",
            "Epoch 372/500\n",
            "1/1 [==============================] - 0s 6ms/step - loss: 0.1231 - accuracy: 0.0000e+00 - mae: 0.1231\n",
            "Epoch 373/500\n",
            "1/1 [==============================] - 0s 9ms/step - loss: 0.1747 - accuracy: 0.0000e+00 - mae: 0.1747\n",
            "Epoch 374/500\n",
            "1/1 [==============================] - 0s 6ms/step - loss: 0.1015 - accuracy: 0.0000e+00 - mae: 0.1015\n",
            "Epoch 375/500\n",
            "1/1 [==============================] - 0s 6ms/step - loss: 0.0752 - accuracy: 0.0000e+00 - mae: 0.0752\n",
            "Epoch 376/500\n",
            "1/1 [==============================] - 0s 14ms/step - loss: 0.1225 - accuracy: 0.0000e+00 - mae: 0.1225\n",
            "Epoch 377/500\n",
            "1/1 [==============================] - 0s 8ms/step - loss: 0.0453 - accuracy: 0.0000e+00 - mae: 0.0453\n",
            "Epoch 378/500\n",
            "1/1 [==============================] - 0s 7ms/step - loss: 0.1409 - accuracy: 0.0000e+00 - mae: 0.1409\n",
            "Epoch 379/500\n",
            "1/1 [==============================] - 0s 14ms/step - loss: 0.1883 - accuracy: 0.0000e+00 - mae: 0.1883\n",
            "Epoch 380/500\n",
            "1/1 [==============================] - 0s 7ms/step - loss: 0.1229 - accuracy: 0.0000e+00 - mae: 0.1229\n",
            "Epoch 381/500\n",
            "1/1 [==============================] - 0s 8ms/step - loss: 0.0663 - accuracy: 0.0000e+00 - mae: 0.0663\n",
            "Epoch 382/500\n",
            "1/1 [==============================] - 0s 9ms/step - loss: 0.1067 - accuracy: 0.0000e+00 - mae: 0.1067\n",
            "Epoch 383/500\n",
            "1/1 [==============================] - 0s 16ms/step - loss: 0.0353 - accuracy: 0.0000e+00 - mae: 0.0353\n",
            "Epoch 384/500\n",
            "1/1 [==============================] - 0s 7ms/step - loss: 0.1181 - accuracy: 0.0000e+00 - mae: 0.1181\n",
            "Epoch 385/500\n",
            "1/1 [==============================] - 0s 10ms/step - loss: 0.1435 - accuracy: 0.0000e+00 - mae: 0.1435\n",
            "Epoch 386/500\n",
            "1/1 [==============================] - 0s 13ms/step - loss: 0.0504 - accuracy: 0.0000e+00 - mae: 0.0504\n",
            "Epoch 387/500\n",
            "1/1 [==============================] - 0s 6ms/step - loss: 0.1648 - accuracy: 0.0000e+00 - mae: 0.1648\n",
            "Epoch 388/500\n",
            "1/1 [==============================] - 0s 12ms/step - loss: 0.2267 - accuracy: 0.0000e+00 - mae: 0.2267\n",
            "Epoch 389/500\n",
            "1/1 [==============================] - 0s 12ms/step - loss: 0.1556 - accuracy: 0.0000e+00 - mae: 0.1556\n",
            "Epoch 390/500\n",
            "1/1 [==============================] - 0s 44ms/step - loss: 0.0296 - accuracy: 0.0000e+00 - mae: 0.0296\n",
            "Epoch 391/500\n",
            "1/1 [==============================] - 0s 6ms/step - loss: 0.1640 - accuracy: 0.0000e+00 - mae: 0.1640\n",
            "Epoch 392/500\n",
            "1/1 [==============================] - 0s 8ms/step - loss: 0.1938 - accuracy: 0.0000e+00 - mae: 0.1938\n",
            "Epoch 393/500\n",
            "1/1 [==============================] - 0s 33ms/step - loss: 0.1015 - accuracy: 0.0000e+00 - mae: 0.1015\n",
            "Epoch 394/500\n",
            "1/1 [==============================] - 0s 7ms/step - loss: 0.0917 - accuracy: 0.0000e+00 - mae: 0.0917\n",
            "Epoch 395/500\n",
            "1/1 [==============================] - 0s 8ms/step - loss: 0.1486 - accuracy: 0.0000e+00 - mae: 0.1486\n",
            "Epoch 396/500\n",
            "1/1 [==============================] - 0s 5ms/step - loss: 0.0853 - accuracy: 0.0000e+00 - mae: 0.0853\n",
            "Epoch 397/500\n",
            "1/1 [==============================] - 0s 5ms/step - loss: 0.0967 - accuracy: 0.0000e+00 - mae: 0.0967\n",
            "Epoch 398/500\n",
            "1/1 [==============================] - 0s 6ms/step - loss: 0.1310 - accuracy: 0.0000e+00 - mae: 0.1310\n",
            "Epoch 399/500\n",
            "1/1 [==============================] - 0s 18ms/step - loss: 0.0767 - accuracy: 0.0000e+00 - mae: 0.0767\n",
            "Epoch 400/500\n",
            "1/1 [==============================] - 0s 14ms/step - loss: 0.1320 - accuracy: 0.0000e+00 - mae: 0.1320\n",
            "Epoch 401/500\n",
            "1/1 [==============================] - 0s 18ms/step - loss: 0.1509 - accuracy: 0.0000e+00 - mae: 0.1509\n",
            "Epoch 402/500\n",
            "1/1 [==============================] - 0s 8ms/step - loss: 0.1102 - accuracy: 0.0000e+00 - mae: 0.1102\n",
            "Epoch 403/500\n",
            "1/1 [==============================] - 0s 16ms/step - loss: 0.1411 - accuracy: 0.0000e+00 - mae: 0.1411\n",
            "Epoch 404/500\n",
            "1/1 [==============================] - 0s 17ms/step - loss: 0.1738 - accuracy: 0.0000e+00 - mae: 0.1738\n",
            "Epoch 405/500\n",
            "1/1 [==============================] - 0s 17ms/step - loss: 0.0761 - accuracy: 0.0000e+00 - mae: 0.0761\n",
            "Epoch 406/500\n",
            "1/1 [==============================] - 0s 10ms/step - loss: 0.1400 - accuracy: 0.0000e+00 - mae: 0.1400\n",
            "Epoch 407/500\n",
            "1/1 [==============================] - 0s 9ms/step - loss: 0.2057 - accuracy: 0.0000e+00 - mae: 0.2057\n",
            "Epoch 408/500\n",
            "1/1 [==============================] - 0s 7ms/step - loss: 0.1355 - accuracy: 0.0000e+00 - mae: 0.1355\n",
            "Epoch 409/500\n",
            "1/1 [==============================] - 0s 11ms/step - loss: 0.1236 - accuracy: 0.0000e+00 - mae: 0.1236\n",
            "Epoch 410/500\n",
            "1/1 [==============================] - 0s 11ms/step - loss: 0.1529 - accuracy: 0.0000e+00 - mae: 0.1529\n",
            "Epoch 411/500\n",
            "1/1 [==============================] - 0s 11ms/step - loss: 0.1319 - accuracy: 0.0000e+00 - mae: 0.1319\n",
            "Epoch 412/500\n",
            "1/1 [==============================] - 0s 8ms/step - loss: 0.1447 - accuracy: 0.0000e+00 - mae: 0.1447\n",
            "Epoch 413/500\n",
            "1/1 [==============================] - 0s 18ms/step - loss: 0.1787 - accuracy: 0.0000e+00 - mae: 0.1787\n",
            "Epoch 414/500\n",
            "1/1 [==============================] - 0s 4ms/step - loss: 0.0916 - accuracy: 0.0000e+00 - mae: 0.0916\n",
            "Epoch 415/500\n",
            "1/1 [==============================] - 0s 8ms/step - loss: 0.1071 - accuracy: 0.0000e+00 - mae: 0.1071\n",
            "Epoch 416/500\n",
            "1/1 [==============================] - 0s 11ms/step - loss: 0.1652 - accuracy: 0.0000e+00 - mae: 0.1652\n",
            "Epoch 417/500\n",
            "1/1 [==============================] - 0s 20ms/step - loss: 0.1026 - accuracy: 0.0000e+00 - mae: 0.1026\n",
            "Epoch 418/500\n",
            "1/1 [==============================] - 0s 10ms/step - loss: 0.0913 - accuracy: 0.0000e+00 - mae: 0.0913\n",
            "Epoch 419/500\n",
            "1/1 [==============================] - 0s 7ms/step - loss: 0.1535 - accuracy: 0.0000e+00 - mae: 0.1535\n",
            "Epoch 420/500\n",
            "1/1 [==============================] - 0s 9ms/step - loss: 0.1020 - accuracy: 0.0000e+00 - mae: 0.1020\n",
            "Epoch 421/500\n",
            "1/1 [==============================] - 0s 5ms/step - loss: 0.1797 - accuracy: 0.0000e+00 - mae: 0.1797\n",
            "Epoch 422/500\n",
            "1/1 [==============================] - 0s 10ms/step - loss: 0.2011 - accuracy: 0.0000e+00 - mae: 0.2011\n",
            "Epoch 423/500\n",
            "1/1 [==============================] - 0s 10ms/step - loss: 0.1155 - accuracy: 0.0000e+00 - mae: 0.1155\n",
            "Epoch 424/500\n",
            "1/1 [==============================] - 0s 14ms/step - loss: 0.1021 - accuracy: 0.0000e+00 - mae: 0.1021\n",
            "Epoch 425/500\n",
            "1/1 [==============================] - 0s 10ms/step - loss: 0.1542 - accuracy: 0.0000e+00 - mae: 0.1542\n",
            "Epoch 426/500\n",
            "1/1 [==============================] - 0s 12ms/step - loss: 0.0758 - accuracy: 0.0000e+00 - mae: 0.0758\n",
            "Epoch 427/500\n",
            "1/1 [==============================] - 0s 14ms/step - loss: 0.1004 - accuracy: 0.0000e+00 - mae: 0.1004\n",
            "Epoch 428/500\n",
            "1/1 [==============================] - 0s 8ms/step - loss: 0.1373 - accuracy: 0.0000e+00 - mae: 0.1373\n",
            "Epoch 429/500\n",
            "1/1 [==============================] - 0s 16ms/step - loss: 0.0773 - accuracy: 0.0000e+00 - mae: 0.0773\n",
            "Epoch 430/500\n",
            "1/1 [==============================] - 0s 7ms/step - loss: 0.1455 - accuracy: 0.0000e+00 - mae: 0.1455\n",
            "Epoch 431/500\n",
            "1/1 [==============================] - 0s 12ms/step - loss: 0.1106 - accuracy: 0.0000e+00 - mae: 0.1106\n",
            "Epoch 432/500\n",
            "1/1 [==============================] - 0s 6ms/step - loss: 0.0464 - accuracy: 0.0000e+00 - mae: 0.0464\n",
            "Epoch 433/500\n",
            "1/1 [==============================] - 0s 11ms/step - loss: 0.0679 - accuracy: 0.0000e+00 - mae: 0.0679\n",
            "Epoch 434/500\n",
            "1/1 [==============================] - 0s 10ms/step - loss: 0.0387 - accuracy: 0.0000e+00 - mae: 0.0387\n",
            "Epoch 435/500\n",
            "1/1 [==============================] - 0s 13ms/step - loss: 0.0485 - accuracy: 0.0000e+00 - mae: 0.0485\n",
            "Epoch 436/500\n",
            "1/1 [==============================] - 0s 12ms/step - loss: 0.0869 - accuracy: 0.0000e+00 - mae: 0.0869\n",
            "Epoch 437/500\n",
            "1/1 [==============================] - 0s 9ms/step - loss: 0.0325 - accuracy: 0.0000e+00 - mae: 0.0325\n",
            "Epoch 438/500\n",
            "1/1 [==============================] - 0s 11ms/step - loss: 0.0687 - accuracy: 0.0000e+00 - mae: 0.0687\n",
            "Epoch 439/500\n",
            "1/1 [==============================] - 0s 13ms/step - loss: 0.0492 - accuracy: 0.0000e+00 - mae: 0.0492\n",
            "Epoch 440/500\n",
            "1/1 [==============================] - 0s 18ms/step - loss: 0.0930 - accuracy: 0.0000e+00 - mae: 0.0930\n",
            "Epoch 441/500\n",
            "1/1 [==============================] - 0s 6ms/step - loss: 0.0379 - accuracy: 0.0000e+00 - mae: 0.0379\n",
            "Epoch 442/500\n",
            "1/1 [==============================] - 0s 12ms/step - loss: 0.1223 - accuracy: 0.0000e+00 - mae: 0.1223\n",
            "Epoch 443/500\n",
            "1/1 [==============================] - 0s 14ms/step - loss: 0.1336 - accuracy: 0.0000e+00 - mae: 0.1336\n",
            "Epoch 444/500\n",
            "1/1 [==============================] - 0s 6ms/step - loss: 0.0540 - accuracy: 0.0000e+00 - mae: 0.0540\n",
            "Epoch 445/500\n",
            "1/1 [==============================] - 0s 4ms/step - loss: 0.1441 - accuracy: 0.0000e+00 - mae: 0.1441\n",
            "Epoch 446/500\n",
            "1/1 [==============================] - 0s 15ms/step - loss: 0.2020 - accuracy: 0.0000e+00 - mae: 0.2020\n",
            "Epoch 447/500\n",
            "1/1 [==============================] - 0s 5ms/step - loss: 0.1469 - accuracy: 0.0000e+00 - mae: 0.1469\n",
            "Epoch 448/500\n",
            "1/1 [==============================] - 0s 9ms/step - loss: 0.0345 - accuracy: 0.0000e+00 - mae: 0.0345\n",
            "Epoch 449/500\n",
            "1/1 [==============================] - 0s 11ms/step - loss: 0.1293 - accuracy: 0.0000e+00 - mae: 0.1293\n",
            "Epoch 450/500\n",
            "1/1 [==============================] - 0s 9ms/step - loss: 0.0991 - accuracy: 0.0000e+00 - mae: 0.0991\n",
            "Epoch 451/500\n",
            "1/1 [==============================] - 0s 14ms/step - loss: 0.0433 - accuracy: 0.0000e+00 - mae: 0.0433\n",
            "Epoch 452/500\n",
            "1/1 [==============================] - 0s 13ms/step - loss: 0.1034 - accuracy: 0.0000e+00 - mae: 0.1034\n",
            "Epoch 453/500\n",
            "1/1 [==============================] - 0s 11ms/step - loss: 0.0450 - accuracy: 0.0000e+00 - mae: 0.0450\n",
            "Epoch 454/500\n",
            "1/1 [==============================] - 0s 10ms/step - loss: 0.1042 - accuracy: 0.0000e+00 - mae: 0.1042\n",
            "Epoch 455/500\n",
            "1/1 [==============================] - 0s 8ms/step - loss: 0.1235 - accuracy: 0.0000e+00 - mae: 0.1235\n",
            "Epoch 456/500\n",
            "1/1 [==============================] - 0s 4ms/step - loss: 0.0428 - accuracy: 0.0000e+00 - mae: 0.0428\n",
            "Epoch 457/500\n",
            "1/1 [==============================] - 0s 12ms/step - loss: 0.1264 - accuracy: 0.0000e+00 - mae: 0.1264\n",
            "Epoch 458/500\n",
            "1/1 [==============================] - 0s 8ms/step - loss: 0.1522 - accuracy: 0.0000e+00 - mae: 0.1522\n",
            "Epoch 459/500\n",
            "1/1 [==============================] - 0s 6ms/step - loss: 0.0817 - accuracy: 0.0000e+00 - mae: 0.0817\n",
            "Epoch 460/500\n",
            "1/1 [==============================] - 0s 8ms/step - loss: 0.1044 - accuracy: 0.0000e+00 - mae: 0.1044\n",
            "Epoch 461/500\n",
            "1/1 [==============================] - 0s 8ms/step - loss: 0.1475 - accuracy: 0.0000e+00 - mae: 0.1475\n",
            "Epoch 462/500\n",
            "1/1 [==============================] - 0s 13ms/step - loss: 0.0665 - accuracy: 0.0000e+00 - mae: 0.0665\n",
            "Epoch 463/500\n",
            "1/1 [==============================] - 0s 10ms/step - loss: 0.1124 - accuracy: 0.0000e+00 - mae: 0.1124\n",
            "Epoch 464/500\n",
            "1/1 [==============================] - 0s 7ms/step - loss: 0.1546 - accuracy: 0.0000e+00 - mae: 0.1546\n",
            "Epoch 465/500\n",
            "1/1 [==============================] - 0s 10ms/step - loss: 0.0831 - accuracy: 0.0000e+00 - mae: 0.0831\n",
            "Epoch 466/500\n",
            "1/1 [==============================] - 0s 7ms/step - loss: 0.0969 - accuracy: 0.0000e+00 - mae: 0.0969\n",
            "Epoch 467/500\n",
            "1/1 [==============================] - 0s 11ms/step - loss: 0.1555 - accuracy: 0.0000e+00 - mae: 0.1555\n",
            "Epoch 468/500\n",
            "1/1 [==============================] - 0s 14ms/step - loss: 0.0928 - accuracy: 0.0000e+00 - mae: 0.0928\n",
            "Epoch 469/500\n",
            "1/1 [==============================] - 0s 6ms/step - loss: 0.0885 - accuracy: 0.0000e+00 - mae: 0.0885\n",
            "Epoch 470/500\n",
            "1/1 [==============================] - 0s 13ms/step - loss: 0.1271 - accuracy: 0.0000e+00 - mae: 0.1271\n",
            "Epoch 471/500\n",
            "1/1 [==============================] - 0s 7ms/step - loss: 0.0378 - accuracy: 0.0000e+00 - mae: 0.0378\n",
            "Epoch 472/500\n",
            "1/1 [==============================] - 0s 10ms/step - loss: 0.1671 - accuracy: 0.0000e+00 - mae: 0.1671\n",
            "Epoch 473/500\n",
            "1/1 [==============================] - 0s 16ms/step - loss: 0.2266 - accuracy: 0.0000e+00 - mae: 0.2266\n",
            "Epoch 474/500\n",
            "1/1 [==============================] - 0s 12ms/step - loss: 0.1555 - accuracy: 0.0000e+00 - mae: 0.1555\n",
            "Epoch 475/500\n",
            "1/1 [==============================] - 0s 5ms/step - loss: 0.0527 - accuracy: 0.0000e+00 - mae: 0.0527\n",
            "Epoch 476/500\n",
            "1/1 [==============================] - 0s 14ms/step - loss: 0.1257 - accuracy: 0.0000e+00 - mae: 0.1257\n",
            "Epoch 477/500\n",
            "1/1 [==============================] - 0s 6ms/step - loss: 0.0886 - accuracy: 0.0000e+00 - mae: 0.0886\n",
            "Epoch 478/500\n",
            "1/1 [==============================] - 0s 13ms/step - loss: 0.1736 - accuracy: 0.0000e+00 - mae: 0.1736\n",
            "Epoch 479/500\n",
            "1/1 [==============================] - 0s 6ms/step - loss: 0.1929 - accuracy: 0.0000e+00 - mae: 0.1929\n",
            "Epoch 480/500\n",
            "1/1 [==============================] - 0s 10ms/step - loss: 0.1080 - accuracy: 0.0000e+00 - mae: 0.1080\n",
            "Epoch 481/500\n",
            "1/1 [==============================] - 0s 8ms/step - loss: 0.0819 - accuracy: 0.0000e+00 - mae: 0.0819\n",
            "Epoch 482/500\n",
            "1/1 [==============================] - 0s 7ms/step - loss: 0.1207 - accuracy: 0.0000e+00 - mae: 0.1207\n",
            "Epoch 483/500\n",
            "1/1 [==============================] - 0s 12ms/step - loss: 0.0441 - accuracy: 0.0000e+00 - mae: 0.0441\n",
            "Epoch 484/500\n",
            "1/1 [==============================] - 0s 12ms/step - loss: 0.1317 - accuracy: 0.0000e+00 - mae: 0.1317\n",
            "Epoch 485/500\n",
            "1/1 [==============================] - 0s 14ms/step - loss: 0.1650 - accuracy: 0.0000e+00 - mae: 0.1650\n",
            "Epoch 486/500\n",
            "1/1 [==============================] - 0s 11ms/step - loss: 0.1002 - accuracy: 0.0000e+00 - mae: 0.1002\n",
            "Epoch 487/500\n",
            "1/1 [==============================] - 0s 7ms/step - loss: 0.0908 - accuracy: 0.0000e+00 - mae: 0.0908\n",
            "Epoch 488/500\n",
            "1/1 [==============================] - 0s 13ms/step - loss: 0.1272 - accuracy: 0.0000e+00 - mae: 0.1272\n",
            "Epoch 489/500\n",
            "1/1 [==============================] - 0s 6ms/step - loss: 0.0820 - accuracy: 0.0000e+00 - mae: 0.0820\n",
            "Epoch 490/500\n",
            "1/1 [==============================] - 0s 13ms/step - loss: 0.1143 - accuracy: 0.0000e+00 - mae: 0.1143\n",
            "Epoch 491/500\n",
            "1/1 [==============================] - 0s 4ms/step - loss: 0.1392 - accuracy: 0.0000e+00 - mae: 0.1392\n",
            "Epoch 492/500\n",
            "1/1 [==============================] - 0s 4ms/step - loss: 0.0893 - accuracy: 0.0000e+00 - mae: 0.0893\n",
            "Epoch 493/500\n",
            "1/1 [==============================] - 0s 10ms/step - loss: 0.1178 - accuracy: 0.0000e+00 - mae: 0.1178\n",
            "Epoch 494/500\n",
            "1/1 [==============================] - 0s 11ms/step - loss: 0.1517 - accuracy: 0.0000e+00 - mae: 0.1517\n",
            "Epoch 495/500\n",
            "1/1 [==============================] - 0s 9ms/step - loss: 0.0970 - accuracy: 0.0000e+00 - mae: 0.0970\n",
            "Epoch 496/500\n",
            "1/1 [==============================] - 0s 19ms/step - loss: 0.0867 - accuracy: 0.0000e+00 - mae: 0.0867\n",
            "Epoch 497/500\n",
            "1/1 [==============================] - 0s 6ms/step - loss: 0.1297 - accuracy: 0.0000e+00 - mae: 0.1297\n",
            "Epoch 498/500\n",
            "1/1 [==============================] - 0s 13ms/step - loss: 0.0699 - accuracy: 0.0000e+00 - mae: 0.0699\n",
            "Epoch 499/500\n",
            "1/1 [==============================] - 0s 17ms/step - loss: 0.1047 - accuracy: 0.0000e+00 - mae: 0.1047\n",
            "Epoch 500/500\n",
            "1/1 [==============================] - 0s 6ms/step - loss: 0.1414 - accuracy: 0.0000e+00 - mae: 0.1414\n"
          ],
          "name": "stdout"
        },
        {
          "output_type": "execute_result",
          "data": {
            "text/plain": [
              "<tensorflow.python.keras.callbacks.History at 0x7f2567301cd0>"
            ]
          },
          "metadata": {
            "tags": []
          },
          "execution_count": 5
        }
      ]
    },
    {
      "cell_type": "code",
      "metadata": {
        "colab": {
          "base_uri": "https://localhost:8080/"
        },
        "id": "YNJdiGEwnD-f",
        "outputId": "2f216de9-b97b-4512-dff8-9de572913f66"
      },
      "source": [
        "model.predict([14.0])\n",
        "\n",
        "# SGD - 1.241\n",
        "# Adam - 0.203"
      ],
      "execution_count": 6,
      "outputs": [
        {
          "output_type": "execute_result",
          "data": {
            "text/plain": [
              "array([[23.842966]], dtype=float32)"
            ]
          },
          "metadata": {
            "tags": []
          },
          "execution_count": 6
        }
      ]
    },
    {
      "cell_type": "code",
      "metadata": {
        "colab": {
          "base_uri": "https://localhost:8080/"
        },
        "id": "RK9rVfTo2G-Y",
        "outputId": "b4d9a3c5-7d7c-4e5b-d2b1-c874c9727782"
      },
      "source": [
        "# Working a larger  Data\n",
        "\n",
        "X=tf.range(-100,100,4)\n",
        "y=X+10\n",
        "X,y"
      ],
      "execution_count": 7,
      "outputs": [
        {
          "output_type": "execute_result",
          "data": {
            "text/plain": [
              "(<tf.Tensor: shape=(50,), dtype=int32, numpy=\n",
              " array([-100,  -96,  -92,  -88,  -84,  -80,  -76,  -72,  -68,  -64,  -60,\n",
              "         -56,  -52,  -48,  -44,  -40,  -36,  -32,  -28,  -24,  -20,  -16,\n",
              "         -12,   -8,   -4,    0,    4,    8,   12,   16,   20,   24,   28,\n",
              "          32,   36,   40,   44,   48,   52,   56,   60,   64,   68,   72,\n",
              "          76,   80,   84,   88,   92,   96], dtype=int32)>,\n",
              " <tf.Tensor: shape=(50,), dtype=int32, numpy=\n",
              " array([-90, -86, -82, -78, -74, -70, -66, -62, -58, -54, -50, -46, -42,\n",
              "        -38, -34, -30, -26, -22, -18, -14, -10,  -6,  -2,   2,   6,  10,\n",
              "         14,  18,  22,  26,  30,  34,  38,  42,  46,  50,  54,  58,  62,\n",
              "         66,  70,  74,  78,  82,  86,  90,  94,  98, 102, 106], dtype=int32)>)"
            ]
          },
          "metadata": {
            "tags": []
          },
          "execution_count": 7
        }
      ]
    },
    {
      "cell_type": "code",
      "metadata": {
        "colab": {
          "base_uri": "https://localhost:8080/"
        },
        "id": "iOPJXtNB2der",
        "outputId": "82bd2fef-fd11-4162-b21e-0bd3c3096945"
      },
      "source": [
        "X_train= X[:40]\n",
        "y_train=y[:40]\n",
        "\n",
        "X_test=X[40:]\n",
        "y_test=y[40:]\n",
        "\n",
        "X_train,X_test"
      ],
      "execution_count": 8,
      "outputs": [
        {
          "output_type": "execute_result",
          "data": {
            "text/plain": [
              "(<tf.Tensor: shape=(40,), dtype=int32, numpy=\n",
              " array([-100,  -96,  -92,  -88,  -84,  -80,  -76,  -72,  -68,  -64,  -60,\n",
              "         -56,  -52,  -48,  -44,  -40,  -36,  -32,  -28,  -24,  -20,  -16,\n",
              "         -12,   -8,   -4,    0,    4,    8,   12,   16,   20,   24,   28,\n",
              "          32,   36,   40,   44,   48,   52,   56], dtype=int32)>,\n",
              " <tf.Tensor: shape=(10,), dtype=int32, numpy=array([60, 64, 68, 72, 76, 80, 84, 88, 92, 96], dtype=int32)>)"
            ]
          },
          "metadata": {
            "tags": []
          },
          "execution_count": 8
        }
      ]
    },
    {
      "cell_type": "code",
      "metadata": {
        "colab": {
          "base_uri": "https://localhost:8080/",
          "height": 428
        },
        "id": "kJnPOt4w225a",
        "outputId": "68cca292-3232-4f1a-e2fe-649edd7cc52f"
      },
      "source": [
        "import matplotlib.pyplot as plt\n",
        "\n",
        "\n",
        "plt.figure(figsize=(10, 7))\n",
        "# Plot training data in blue\n",
        "plt.scatter(X_train, y_train, c=\"b\", label=\"Training data\") # our model will learn on this\n",
        "# Plot test data in green\n",
        "plt.scatter(X_test, y_test, c=\"g\", label=\"Testing data\") # want our model to be able to predict this (given X, what's y?)\n",
        "# Show a legend\n",
        "plt.legend();\n"
      ],
      "execution_count": 10,
      "outputs": [
        {
          "output_type": "display_data",
          "data": {
            "image/png": "[encoded data removed]",
            "text/plain": [
              "<Figure size 720x504 with 1 Axes>"
            ]
          },
          "metadata": {
            "tags": [],
            "needs_background": "light"
          }
        }
      ]
    },
    {
      "cell_type": "code",
      "metadata": {
        "id": "eY5Tzoar0scY"
      },
      "source": [
        "\n",
        "newModel=tf.keras.models.Sequential([\n",
        "        tf.keras.layers.Dense(6,activation=\"relu\",input_shape=(1,),name=\"First_Layer\"),\n",
        "        tf.keras.layers.Dense(1,activation=\"relu\")\n",
        "],name=\"New_Model\")\n",
        "\n"
      ],
      "execution_count": 43,
      "outputs": []
    },
    {
      "cell_type": "code",
      "metadata": {
        "id": "aUQLyYKT1Wt6"
      },
      "source": [
        "newModel.compile(optimizer=tf.keras.optimizers.Adam(lr=0.01),loss=tf.keras.losses.mae,metrics=([\"accuracy\"]))"
      ],
      "execution_count": 49,
      "outputs": []
    },
    {
      "cell_type": "code",
      "metadata": {
        "colab": {
          "base_uri": "https://localhost:8080/"
        },
        "id": "eIcvi6iN1yY3",
        "outputId": "70528583-53b7-440b-a17d-cbd481962e4f"
      },
      "source": [
        "newModel.fit(X_train,y_train,epochs=5,validation_data=(X_test, y_test),verbose=0)"
      ],
      "execution_count": 50,
      "outputs": [
        {
          "output_type": "execute_result",
          "data": {
            "text/plain": [
              "<tensorflow.python.keras.callbacks.History at 0x7f2563845dd0>"
            ]
          },
          "metadata": {
            "tags": []
          },
          "execution_count": 50
        }
      ]
    },
    {
      "cell_type": "code",
      "metadata": {
        "colab": {
          "base_uri": "https://localhost:8080/"
        },
        "id": "iuI7HPag3QlM",
        "outputId": "ebdda1e1-7530-4b0c-df0b-e2ac90615214"
      },
      "source": [
        "newModel.summary()\n",
        "\n",
        "#input shape =1  , Output shape =6 (number of dense layers)\n",
        "# Param = 1 * 6(weights) + 6(bias) "
      ],
      "execution_count": 28,
      "outputs": [
        {
          "output_type": "stream",
          "text": [
            "Model: \"New Model\"\n",
            "_________________________________________________________________\n",
            "Layer (type)                 Output Shape              Param #   \n",
            "=================================================================\n",
            "First_Layer (Dense)          (None, 6)                 12        \n",
            "_________________________________________________________________\n",
            "dense_7 (Dense)              (None, 1)                 7         \n",
            "=================================================================\n",
            "Total params: 19\n",
            "Trainable params: 19\n",
            "Non-trainable params: 0\n",
            "_________________________________________________________________\n"
          ],
          "name": "stdout"
        }
      ]
    },
    {
      "cell_type": "code",
      "metadata": {
        "id": "5Eq1O5OM7p5c"
      },
      "source": [
        "X_train"
      ],
      "execution_count": null,
      "outputs": []
    },
    {
      "cell_type": "code",
      "metadata": {
        "colab": {
          "base_uri": "https://localhost:8080/",
          "height": 312
        },
        "id": "ADB5izZ17I4o",
        "outputId": "c6616f9e-fa2f-4c56-c74c-f1c6a4b23710"
      },
      "source": [
        "from tensorflow.keras.utils import plot_model\n",
        "\n",
        "plot_model(model = newModel, show_shapes=True)"
      ],
      "execution_count": 27,
      "outputs": [
        {
          "output_type": "execute_result",
          "data": {
            "image/png": "[encoded data removed]",
            "text/plain": [
              "<IPython.core.display.Image object>"
            ]
          },
          "metadata": {
            "tags": []
          },
          "execution_count": 27
        }
      ]
    },
    {
      "cell_type": "code",
      "metadata": {
        "id": "0R8CpZQqD-eM"
      },
      "source": [
        "y_pred = newModel.predict(X_test)"
      ],
      "execution_count": 76,
      "outputs": []
    },
    {
      "cell_type": "code",
      "metadata": {
        "id": "jUhL1wxSCXMF"
      },
      "source": [
        "# Plot Predictions\n",
        "\n",
        "def plot_predictions(train_data=X_train, train_label=y_train, test_data=X_test, test_label=y_test, predicted_label= y_pred):\n",
        "  plt.figure(figsize=(10,10))\n",
        "\n",
        "  plt.scatter(train_data,train_label, c=\"blue\", label =\"Training Data\")\n",
        "  plt.scatter(test_data,test_label,c=\"red\",label=\"Test Data\")\n",
        "  plt.scatter(test_data,predicted_label,c=\"green\", label=\"Predicted Data\")\n",
        "\n",
        "  plt.legend()\n"
      ],
      "execution_count": 40,
      "outputs": []
    },
    {
      "cell_type": "code",
      "metadata": {
        "colab": {
          "base_uri": "https://localhost:8080/",
          "height": 592
        },
        "id": "NV8JG_BREQHa",
        "outputId": "b363b132-d9db-450e-afdd-8620c1631e65"
      },
      "source": [
        "plot_predictions()"
      ],
      "execution_count": 39,
      "outputs": [
        {
          "output_type": "display_data",
          "data": {
            "image/png": "[encoded data removed]",
            "text/plain": [
              "<Figure size 720x720 with 1 Axes>"
            ]
          },
          "metadata": {
            "tags": [],
            "needs_background": "light"
          }
        }
      ]
    },
    {
      "cell_type": "code",
      "metadata": {
        "colab": {
          "base_uri": "https://localhost:8080/"
        },
        "id": "i-ZS8y6iIAuD",
        "outputId": "ace5b6f1-c91b-4f00-c039-c2d233511e17"
      },
      "source": [
        "newModel.evaluate(X_test,y_test)"
      ],
      "execution_count": 77,
      "outputs": [
        {
          "output_type": "stream",
          "text": [
            "1/1 [==============================] - 0s 92ms/step - loss: 63.7596 - accuracy: 0.0000e+00\n"
          ],
          "name": "stdout"
        },
        {
          "output_type": "execute_result",
          "data": {
            "text/plain": [
              "[63.75957489013672, 0.0]"
            ]
          },
          "metadata": {
            "tags": []
          },
          "execution_count": 77
        }
      ]
    },
    {
      "cell_type": "code",
      "metadata": {
        "colab": {
          "base_uri": "https://localhost:8080/"
        },
        "id": "HU_7kEArI2dy",
        "outputId": "c03a1e34-af70-4c55-cbe2-628bcc7274d1"
      },
      "source": [
        "tf.keras.losses.MAE(y_true=y_test,y_pred=y_pred).numpy()\n"
      ],
      "execution_count": 78,
      "outputs": [
        {
          "output_type": "execute_result",
          "data": {
            "text/plain": [
              "array([69.27618 , 68.05026 , 66.824356, 65.59844 , 64.372536, 63.146618,\n",
              "       61.920715, 60.6948  , 59.468884, 58.24298 ], dtype=float32)"
            ]
          },
          "metadata": {
            "tags": []
          },
          "execution_count": 78
        }
      ]
    },
    {
      "cell_type": "code",
      "metadata": {
        "colab": {
          "base_uri": "https://localhost:8080/"
        },
        "id": "iMhXiUzvib7p",
        "outputId": "2b826614-8501-4d54-99a0-1d89d31967b0"
      },
      "source": [
        "tf.metrics.mean_absolute_error(y_test,y_pred)"
      ],
      "execution_count": 79,
      "outputs": [
        {
          "output_type": "execute_result",
          "data": {
            "text/plain": [
              "<tf.Tensor: shape=(10,), dtype=float32, numpy=\n",
              "array([69.27618 , 68.05026 , 66.824356, 65.59844 , 64.372536, 63.146618,\n",
              "       61.920715, 60.6948  , 59.468884, 58.24298 ], dtype=float32)>"
            ]
          },
          "metadata": {
            "tags": []
          },
          "execution_count": 79
        }
      ]
    },
    {
      "cell_type": "code",
      "metadata": {
        "colab": {
          "base_uri": "https://localhost:8080/"
        },
        "id": "n7y1YVNakpIs",
        "outputId": "6cafdf6c-ada5-49d1-aead-16ac74794750"
      },
      "source": [
        "y_test"
      ],
      "execution_count": 80,
      "outputs": [
        {
          "output_type": "execute_result",
          "data": {
            "text/plain": [
              "<tf.Tensor: shape=(10,), dtype=float32, numpy=\n",
              "array([ 70.,  74.,  78.,  82.,  86.,  90.,  94.,  98., 102., 106.],\n",
              "      dtype=float32)>"
            ]
          },
          "metadata": {
            "tags": []
          },
          "execution_count": 80
        }
      ]
    },
    {
      "cell_type": "code",
      "metadata": {
        "colab": {
          "base_uri": "https://localhost:8080/"
        },
        "id": "nu-2kpGgkq4n",
        "outputId": "db9357aa-4066-4e86-9750-bfa079e1bc72"
      },
      "source": [
        "tf.constant(y_pred) # Dimension is of Rank 2 for y_pred whereas its Rank 1 for y_test"
      ],
      "execution_count": 81,
      "outputs": [
        {
          "output_type": "execute_result",
          "data": {
            "text/plain": [
              "<tf.Tensor: shape=(10, 1), dtype=float32, numpy=\n",
              "array([[18.723822],\n",
              "       [19.949734],\n",
              "       [21.175646],\n",
              "       [22.401556],\n",
              "       [23.627466],\n",
              "       [24.853378],\n",
              "       [26.079287],\n",
              "       [27.305199],\n",
              "       [28.53111 ],\n",
              "       [29.757023]], dtype=float32)>"
            ]
          },
          "metadata": {
            "tags": []
          },
          "execution_count": 81
        }
      ]
    },
    {
      "cell_type": "code",
      "metadata": {
        "colab": {
          "base_uri": "https://localhost:8080/"
        },
        "id": "3RElt1kXJc7C",
        "outputId": "e35a63d0-b5e8-47d7-b44d-5f34290db384"
      },
      "source": [
        "y_pred=tf.reshape(y_pred,shape=(10,))\n",
        "y_pred"
      ],
      "execution_count": 82,
      "outputs": [
        {
          "output_type": "execute_result",
          "data": {
            "text/plain": [
              "<tf.Tensor: shape=(10,), dtype=float32, numpy=\n",
              "array([18.723822, 19.949734, 21.175646, 22.401556, 23.627466, 24.853378,\n",
              "       26.079287, 27.305199, 28.53111 , 29.757023], dtype=float32)>"
            ]
          },
          "metadata": {
            "tags": []
          },
          "execution_count": 82
        }
      ]
    },
    {
      "cell_type": "code",
      "metadata": {
        "colab": {
          "base_uri": "https://localhost:8080/"
        },
        "id": "1dAi9I-ilet6",
        "outputId": "bbf4b0de-a58c-4c0c-e5cc-086ec51531f3"
      },
      "source": [
        "tf.metrics.mean_absolute_error(y_test,y_pred)  "
      ],
      "execution_count": 85,
      "outputs": [
        {
          "output_type": "execute_result",
          "data": {
            "text/plain": [
              "<tf.Tensor: shape=(), dtype=float32, numpy=63.759575>"
            ]
          },
          "metadata": {
            "tags": []
          },
          "execution_count": 85
        }
      ]
    },
    {
      "cell_type": "code",
      "metadata": {
        "colab": {
          "base_uri": "https://localhost:8080/"
        },
        "id": "Rqo-ieKzmsLg",
        "outputId": "c94d6f0c-28c5-47b9-edbb-ebd2e5c56696"
      },
      "source": [
        "#Changing the datatype of y_test\n",
        "\n",
        "y_test=tf.cast(y_test,dtype=\"int32\")\n",
        "y_test"
      ],
      "execution_count": 86,
      "outputs": [
        {
          "output_type": "execute_result",
          "data": {
            "text/plain": [
              "<tf.Tensor: shape=(10,), dtype=int32, numpy=array([ 70,  74,  78,  82,  86,  90,  94,  98, 102, 106], dtype=int32)>"
            ]
          },
          "metadata": {
            "tags": []
          },
          "execution_count": 86
        }
      ]
    },
    {
      "cell_type": "code",
      "metadata": {
        "colab": {
          "base_uri": "https://localhost:8080/"
        },
        "id": "NXuKns94neiO",
        "outputId": "ac08db1b-b3d9-4275-8c59-c103d20decc6"
      },
      "source": [
        "# Trying Squeeze instead of reshape\n",
        "y_pred = tf.constant(newModel.predict(X_test))\n",
        "y_pred "
      ],
      "execution_count": 92,
      "outputs": [
        {
          "output_type": "execute_result",
          "data": {
            "text/plain": [
              "<tf.Tensor: shape=(10, 1), dtype=float32, numpy=\n",
              "array([[18.723822],\n",
              "       [19.949734],\n",
              "       [21.175646],\n",
              "       [22.401556],\n",
              "       [23.627466],\n",
              "       [24.853378],\n",
              "       [26.079287],\n",
              "       [27.305199],\n",
              "       [28.53111 ],\n",
              "       [29.757023]], dtype=float32)>"
            ]
          },
          "metadata": {
            "tags": []
          },
          "execution_count": 92
        }
      ]
    },
    {
      "cell_type": "code",
      "metadata": {
        "colab": {
          "base_uri": "https://localhost:8080/"
        },
        "id": "sa_nkHgLoXOG",
        "outputId": "e18ed4a9-5db6-4c06-e73c-afa37f55bc89"
      },
      "source": [
        "y_pred=tf.squeeze(y_pred)\n",
        "y_pred"
      ],
      "execution_count": 97,
      "outputs": [
        {
          "output_type": "execute_result",
          "data": {
            "text/plain": [
              "<tf.Tensor: shape=(10,), dtype=float32, numpy=\n",
              "array([18.723822, 19.949734, 21.175646, 22.401556, 23.627466, 24.853378,\n",
              "       26.079287, 27.305199, 28.53111 , 29.757023], dtype=float32)>"
            ]
          },
          "metadata": {
            "tags": []
          },
          "execution_count": 97
        }
      ]
    },
    {
      "cell_type": "code",
      "metadata": {
        "colab": {
          "base_uri": "https://localhost:8080/"
        },
        "id": "-V4zeaMcnUI6",
        "outputId": "a3ee7e91-51d0-485a-baca-80c5930d49eb"
      },
      "source": [
        "tf.metrics.mean_absolute_error(y_test,y_pred) "
      ],
      "execution_count": 96,
      "outputs": [
        {
          "output_type": "execute_result",
          "data": {
            "text/plain": [
              "<tf.Tensor: shape=(), dtype=float32, numpy=63.759575>"
            ]
          },
          "metadata": {
            "tags": []
          },
          "execution_count": 96
        }
      ]
    },
    {
      "cell_type": "code",
      "metadata": {
        "id": "CtXwuprcoijE"
      },
      "source": [
        "def mae(y_test, y_pred):\n",
        "  \"\"\"\n",
        "  Calculuates mean absolute error between y_test and y_preds.\n",
        "  \"\"\"\n",
        "  return tf.metrics.mean_absolute_error(y_test,\n",
        "                                        y_pred)\n",
        "  \n",
        "def mse(y_test, y_pred):\n",
        "  \"\"\"\n",
        "  Calculates mean squared error between y_test and y_preds.\n",
        "  \"\"\"\n",
        "  return tf.metrics.mean_squared_error(y_test,\n",
        "                                       y_pred)"
      ],
      "execution_count": 98,
      "outputs": []
    },
    {
      "cell_type": "code",
      "metadata": {
        "colab": {
          "base_uri": "https://localhost:8080/"
        },
        "id": "02kDLdvHxEqg",
        "outputId": "ad2f7fbc-6667-49e6-8c9f-633ab4254fb5"
      },
      "source": [
        "newModel.summary()"
      ],
      "execution_count": 99,
      "outputs": [
        {
          "output_type": "stream",
          "text": [
            "Model: \"New_Model\"\n",
            "_________________________________________________________________\n",
            "Layer (type)                 Output Shape              Param #   \n",
            "=================================================================\n",
            "First_Layer (Dense)          (None, 6)                 12        \n",
            "_________________________________________________________________\n",
            "dense_8 (Dense)              (None, 1)                 7         \n",
            "=================================================================\n",
            "Total params: 19\n",
            "Trainable params: 19\n",
            "Non-trainable params: 0\n",
            "_________________________________________________________________\n"
          ],
          "name": "stdout"
        }
      ]
    },
    {
      "cell_type": "code",
      "metadata": {
        "colab": {
          "base_uri": "https://localhost:8080/"
        },
        "id": "YftcitOnzfLk",
        "outputId": "87742278-3933-458b-9d38-1a04db3da4c5"
      },
      "source": [
        "\n",
        "#Saving the model\n",
        "#The SavedModel format (default).\n",
        "#The HDF5 format.\n",
        "newModel.save(\"Saved_Model_1\")"
      ],
      "execution_count": 106,
      "outputs": [
        {
          "output_type": "stream",
          "text": [
            "INFO:tensorflow:Assets written to: Saved_Model_1/assets\n"
          ],
          "name": "stdout"
        }
      ]
    },
    {
      "cell_type": "code",
      "metadata": {
        "colab": {
          "base_uri": "https://localhost:8080/"
        },
        "id": "mHMunCg3zrku",
        "outputId": "d9a68557-50c0-4ae4-fb85-a48659be3518"
      },
      "source": [
        "!ls Saved_Model"
      ],
      "execution_count": 107,
      "outputs": [
        {
          "output_type": "stream",
          "text": [
            "assets\tsaved_model.pb\tvariables\n"
          ],
          "name": "stdout"
        }
      ]
    },
    {
      "cell_type": "code",
      "metadata": {
        "id": "QBbV1Zynzy33"
      },
      "source": [
        "newModel.save(\"Saved_Model.h5\")"
      ],
      "execution_count": 108,
      "outputs": []
    },
    {
      "cell_type": "code",
      "metadata": {
        "colab": {
          "base_uri": "https://localhost:8080/"
        },
        "id": "TQehPNnXz6gk",
        "outputId": "49afed74-5fae-4655-f6af-aa791ec29486"
      },
      "source": [
        "!ls Saved_Model*"
      ],
      "execution_count": 110,
      "outputs": [
        {
          "output_type": "stream",
          "text": [
            "Saved_Model.h5\n",
            "\n",
            "Saved_Model:\n",
            "assets\tsaved_model.pb\tvariables\n",
            "\n",
            "Saved_Model_1:\n",
            "assets\tsaved_model.pb\tvariables\n"
          ],
          "name": "stdout"
        }
      ]
    },
    {
      "cell_type": "code",
      "metadata": {
        "colab": {
          "base_uri": "https://localhost:8080/"
        },
        "id": "t88IMc7t0bIG",
        "outputId": "9fad6dd3-2099-4f2c-c24b-16a7fdeecf64"
      },
      "source": [
        "reloading_savedModel = tf.keras.models.load_model(\"Saved_Model.h5\") #Same code worked for loading saved model too\n",
        "reloading_savedModel.summary()"
      ],
      "execution_count": 113,
      "outputs": [
        {
          "output_type": "stream",
          "text": [
            "Model: \"New_Model\"\n",
            "_________________________________________________________________\n",
            "Layer (type)                 Output Shape              Param #   \n",
            "=================================================================\n",
            "First_Layer (Dense)          (None, 6)                 12        \n",
            "_________________________________________________________________\n",
            "dense_8 (Dense)              (None, 1)                 7         \n",
            "=================================================================\n",
            "Total params: 19\n",
            "Trainable params: 19\n",
            "Non-trainable params: 0\n",
            "_________________________________________________________________\n"
          ],
          "name": "stdout"
        }
      ]
    },
    {
      "cell_type": "code",
      "metadata": {
        "colab": {
          "base_uri": "https://localhost:8080/"
        },
        "id": "6xKCgLUM0uCJ",
        "outputId": "14835a07-cd5e-4d2f-bf6d-660155bf071a"
      },
      "source": [
        "savedModelPredict=reloading_savedModel.predict(X_test)\n",
        "originalModelPredict = newModel.predict(X_test)\n",
        "\n",
        "savedModelPredict,originalModelPredict, savedModelPredict==originalModelPredict"
      ],
      "execution_count": 114,
      "outputs": [
        {
          "output_type": "stream",
          "text": [
            "WARNING:tensorflow:5 out of the last 9 calls to <function Model.make_predict_function.<locals>.predict_function at 0x7f2557f6c7a0> triggered tf.function retracing. Tracing is expensive and the excessive number of tracings could be due to (1) creating @tf.function repeatedly in a loop, (2) passing tensors with different shapes, (3) passing Python objects instead of tensors. For (1), please define your @tf.function outside of the loop. For (2), @tf.function has experimental_relax_shapes=True option that relaxes argument shapes that can avoid unnecessary retracing. For (3), please refer to https://www.tensorflow.org/guide/function#controlling_retracing and https://www.tensorflow.org/api_docs/python/tf/function for  more details.\n"
          ],
          "name": "stdout"
        },
        {
          "output_type": "execute_result",
          "data": {
            "text/plain": [
              "(array([[18.723822],\n",
              "        [19.949734],\n",
              "        [21.175646],\n",
              "        [22.401556],\n",
              "        [23.627466],\n",
              "        [24.853378],\n",
              "        [26.079287],\n",
              "        [27.305199],\n",
              "        [28.53111 ],\n",
              "        [29.757023]], dtype=float32), array([[18.723822],\n",
              "        [19.949734],\n",
              "        [21.175646],\n",
              "        [22.401556],\n",
              "        [23.627466],\n",
              "        [24.853378],\n",
              "        [26.079287],\n",
              "        [27.305199],\n",
              "        [28.53111 ],\n",
              "        [29.757023]], dtype=float32), array([[ True],\n",
              "        [ True],\n",
              "        [ True],\n",
              "        [ True],\n",
              "        [ True],\n",
              "        [ True],\n",
              "        [ True],\n",
              "        [ True],\n",
              "        [ True],\n",
              "        [ True]]))"
            ]
          },
          "metadata": {
            "tags": []
          },
          "execution_count": 114
        }
      ]
    },
    {
      "cell_type": "code",
      "metadata": {
        "id": "-pnf0x7R1sFZ"
      },
      "source": [
        "\n",
        "# Download the model (or any file) from Google Colab\n",
        "from google.colab import files\n",
        "files.download(\"/content/Saved_Model.h5\")"
      ],
      "execution_count": null,
      "outputs": []
    },
    {
      "cell_type": "code",
      "metadata": {
        "colab": {
          "base_uri": "https://localhost:8080/"
        },
        "id": "22_hdiDN4c6C",
        "outputId": "f1a4221c-f7c3-440b-d315-26bf87015685"
      },
      "source": [
        "!pwd"
      ],
      "execution_count": 120,
      "outputs": [
        {
          "output_type": "stream",
          "text": [
            "/content\n"
          ],
          "name": "stdout"
        }
      ]
    },
    {
      "cell_type": "code",
      "metadata": {
        "id": "C0Obi1Jw5Uhb"
      },
      "source": [
        "!cp /content/Saved_Model.h5 /content/drive/MyDrive"
      ],
      "execution_count": 128,
      "outputs": []
    }
  ]
}