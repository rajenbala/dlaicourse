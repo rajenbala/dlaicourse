{
  "nbformat": 4,
  "nbformat_minor": 0,
  "metadata": {
    "colab": {
      "name": "Tensorflow_Master_Reference.ipynb",
      "provenance": [],
      "authorship_tag": "ABX9TyOwHowqSYTdVF2WvkIIPlRL",
      "include_colab_link": true
    },
    "kernelspec": {
      "name": "python3",
      "display_name": "Python 3"
    },
    "language_info": {
      "name": "python"
    }
  },
  "cells": [
    {
      "cell_type": "markdown",
      "metadata": {
        "id": "view-in-github",
        "colab_type": "text"
      },
      "source": [
        "<a href=\"https://colab.research.google.com/github/rajenbala/dlaicourse/blob/master/Tensorflow_Master_Reference.ipynb\" target=\"_parent\"><img src=\"https://colab.research.google.com/assets/colab-badge.svg\" alt=\"Open In Colab\"/></a>"
      ]
    },
    {
      "cell_type": "code",
      "metadata": {
        "colab": {
          "base_uri": "https://localhost:8080/"
        },
        "id": "v28B7alVYQ5i",
        "outputId": "dee9cf18-3e77-43ed-8226-e1ff05d716a7"
      },
      "source": [
        "# Fundamentals of Tensorflow\n",
        "\n",
        "import tensorflow as tf\n",
        "print(tf.__version__)\n"
      ],
      "execution_count": 7,
      "outputs": [
        {
          "output_type": "stream",
          "text": [
            "2.4.1\n"
          ],
          "name": "stdout"
        }
      ]
    },
    {
      "cell_type": "code",
      "metadata": {
        "colab": {
          "base_uri": "https://localhost:8080/"
        },
        "id": "PzRM6LbLgIsO",
        "outputId": "6415b96e-f8ec-4588-db38-1d1bc96a671f"
      },
      "source": [
        "## Creating Tensors with Tensor Constant\n",
        "\n",
        "scalar=tf.constant(9.8)\n",
        "scalar"
      ],
      "execution_count": 8,
      "outputs": [
        {
          "output_type": "execute_result",
          "data": {
            "text/plain": [
              "<tf.Tensor: shape=(), dtype=float32, numpy=9.8>"
            ]
          },
          "metadata": {
            "tags": []
          },
          "execution_count": 8
        }
      ]
    },
    {
      "cell_type": "code",
      "metadata": {
        "colab": {
          "base_uri": "https://localhost:8080/"
        },
        "id": "rRr97tBSk6jT",
        "outputId": "9d338485-af2c-4a78-cc7b-cb329ebaa5a2"
      },
      "source": [
        "vector =tf.constant([2,3,9])\n",
        "vector.ndim"
      ],
      "execution_count": 9,
      "outputs": [
        {
          "output_type": "execute_result",
          "data": {
            "text/plain": [
              "1"
            ]
          },
          "metadata": {
            "tags": []
          },
          "execution_count": 9
        }
      ]
    },
    {
      "cell_type": "code",
      "metadata": {
        "colab": {
          "base_uri": "https://localhost:8080/"
        },
        "id": "VxpSIUTDlC5b",
        "outputId": "b81bab29-3852-4fc5-d7f0-90e7bf6ae5f0"
      },
      "source": [
        "matrix=tf.constant([[2,4],[3,4]])\n",
        "matrix.ndim"
      ],
      "execution_count": 10,
      "outputs": [
        {
          "output_type": "execute_result",
          "data": {
            "text/plain": [
              "2"
            ]
          },
          "metadata": {
            "tags": []
          },
          "execution_count": 10
        }
      ]
    },
    {
      "cell_type": "code",
      "metadata": {
        "colab": {
          "base_uri": "https://localhost:8080/"
        },
        "id": "XHsRRZQYi4zj",
        "outputId": "2d86cb27-5208-4944-beaf-04657161524c"
      },
      "source": [
        "myTensor =tf.constant([[\n",
        "                      [1,2,3],\n",
        "                      [2,3,5]],\n",
        "                     [[3,4,5],\n",
        "                      [4,5,6]]])\n",
        "myTensor.ndim"
      ],
      "execution_count": 11,
      "outputs": [
        {
          "output_type": "execute_result",
          "data": {
            "text/plain": [
              "3"
            ]
          },
          "metadata": {
            "tags": []
          },
          "execution_count": 11
        }
      ]
    },
    {
      "cell_type": "code",
      "metadata": {
        "colab": {
          "base_uri": "https://localhost:8080/"
        },
        "id": "BcarAx8ljo_6",
        "outputId": "2d4a3911-7935-4af3-a9b7-a40b960f966e"
      },
      "source": [
        "myTensor"
      ],
      "execution_count": 12,
      "outputs": [
        {
          "output_type": "execute_result",
          "data": {
            "text/plain": [
              "<tf.Tensor: shape=(2, 2, 3), dtype=int32, numpy=\n",
              "array([[[1, 2, 3],\n",
              "        [2, 3, 5]],\n",
              "\n",
              "       [[3, 4, 5],\n",
              "        [4, 5, 6]]], dtype=int32)>"
            ]
          },
          "metadata": {
            "tags": []
          },
          "execution_count": 12
        }
      ]
    },
    {
      "cell_type": "code",
      "metadata": {
        "colab": {
          "base_uri": "https://localhost:8080/"
        },
        "id": "Xcke6Z6fjd80",
        "outputId": "63ab35e4-9f9f-45e2-b35b-ae759269f6b0"
      },
      "source": [
        "tensor_rank4 = tf.constant([[[\n",
        "                              [2,3],[4,5]\n",
        "                              ],\n",
        "                             [\n",
        "                              [4,5],[6,7]\n",
        "                             ],\n",
        "                             [\n",
        "                              [33,30],[6,9]\n",
        "                             ]\n",
        "                             ],\n",
        "                            [[\n",
        "                              [63,2],[14,18]\n",
        "                            ],\n",
        "                             [\n",
        "                              [33,30],[6,9]\n",
        "                             ],\n",
        "                             [\n",
        "                              [33,30],[6,9]\n",
        "                             ]\n",
        "                            ],\n",
        "                            [[\n",
        "                              [63,2],[14,18]\n",
        "                            ],\n",
        "                             [\n",
        "                              [33,30],[6,9]\n",
        "                             ],\n",
        "                             [\n",
        "                              [33,30],[6,9]\n",
        "                             ]\n",
        "                            ],\n",
        "                            [[\n",
        "                              [63,2],[14,18]\n",
        "                            ],\n",
        "                             [\n",
        "                              [33,30],[6,9]\n",
        "                             ],\n",
        "                             [\n",
        "                              [33,30],[6,9]\n",
        "                             ]\n",
        "                            ]\n",
        "                            ])\n",
        "tensor_rank4.ndim"
      ],
      "execution_count": 13,
      "outputs": [
        {
          "output_type": "execute_result",
          "data": {
            "text/plain": [
              "4"
            ]
          },
          "metadata": {
            "tags": []
          },
          "execution_count": 13
        }
      ]
    },
    {
      "cell_type": "code",
      "metadata": {
        "colab": {
          "base_uri": "https://localhost:8080/"
        },
        "id": "38cg_kq8j6Zp",
        "outputId": "885ba874-aca4-48e6-9e8b-5556c8c216c0"
      },
      "source": [
        "tensor_rank4"
      ],
      "execution_count": 14,
      "outputs": [
        {
          "output_type": "execute_result",
          "data": {
            "text/plain": [
              "<tf.Tensor: shape=(4, 3, 2, 2), dtype=int32, numpy=\n",
              "array([[[[ 2,  3],\n",
              "         [ 4,  5]],\n",
              "\n",
              "        [[ 4,  5],\n",
              "         [ 6,  7]],\n",
              "\n",
              "        [[33, 30],\n",
              "         [ 6,  9]]],\n",
              "\n",
              "\n",
              "       [[[63,  2],\n",
              "         [14, 18]],\n",
              "\n",
              "        [[33, 30],\n",
              "         [ 6,  9]],\n",
              "\n",
              "        [[33, 30],\n",
              "         [ 6,  9]]],\n",
              "\n",
              "\n",
              "       [[[63,  2],\n",
              "         [14, 18]],\n",
              "\n",
              "        [[33, 30],\n",
              "         [ 6,  9]],\n",
              "\n",
              "        [[33, 30],\n",
              "         [ 6,  9]]],\n",
              "\n",
              "\n",
              "       [[[63,  2],\n",
              "         [14, 18]],\n",
              "\n",
              "        [[33, 30],\n",
              "         [ 6,  9]],\n",
              "\n",
              "        [[33, 30],\n",
              "         [ 6,  9]]]], dtype=int32)>"
            ]
          },
          "metadata": {
            "tags": []
          },
          "execution_count": 14
        }
      ]
    },
    {
      "cell_type": "code",
      "metadata": {
        "colab": {
          "base_uri": "https://localhost:8080/"
        },
        "id": "7dz1yjEDocBm",
        "outputId": "ab3127c9-ee4f-4b88-dcde-83eef59987ce"
      },
      "source": [
        "#Creating Tensor with tf.variable\n",
        "changebleTensors = tf.Variable([2,3])\n",
        "changebleTensors"
      ],
      "execution_count": 15,
      "outputs": [
        {
          "output_type": "execute_result",
          "data": {
            "text/plain": [
              "<tf.Variable 'Variable:0' shape=(2,) dtype=int32, numpy=array([2, 3], dtype=int32)>"
            ]
          },
          "metadata": {
            "tags": []
          },
          "execution_count": 15
        }
      ]
    },
    {
      "cell_type": "code",
      "metadata": {
        "colab": {
          "base_uri": "https://localhost:8080/"
        },
        "id": "ff4DZRZ8od7t",
        "outputId": "8f478cd9-a570-49d7-b1c0-58a514c53c79"
      },
      "source": [
        "changebleTensors[0].assign(3)\n",
        "changebleTensors"
      ],
      "execution_count": 16,
      "outputs": [
        {
          "output_type": "execute_result",
          "data": {
            "text/plain": [
              "<tf.Variable 'Variable:0' shape=(2,) dtype=int32, numpy=array([3, 3], dtype=int32)>"
            ]
          },
          "metadata": {
            "tags": []
          },
          "execution_count": 16
        }
      ]
    },
    {
      "cell_type": "code",
      "metadata": {
        "colab": {
          "base_uri": "https://localhost:8080/"
        },
        "id": "3FuhfP4ZogOZ",
        "outputId": "4c48cbe2-7cc6-46bd-970a-5f2cd94440ac"
      },
      "source": [
        "## Creating Random Tensors\n",
        "\n",
        "## Random Variables Normally distributed\n",
        "tf.random.normal(shape=(2,3,4))\n"
      ],
      "execution_count": 17,
      "outputs": [
        {
          "output_type": "execute_result",
          "data": {
            "text/plain": [
              "<tf.Tensor: shape=(2, 3, 4), dtype=float32, numpy=\n",
              "array([[[ 0.03725741,  0.51034856,  0.81363785, -0.22474867],\n",
              "        [-0.11332719, -1.256693  , -0.04462241,  0.645737  ],\n",
              "        [ 0.4552612 ,  0.13111697, -0.04129713, -0.65996575]],\n",
              "\n",
              "       [[-0.7552684 ,  2.336664  , -1.2945317 ,  0.45867616],\n",
              "        [-0.6994845 ,  0.6278672 ,  0.76587874,  0.8116292 ],\n",
              "        [-0.87639105, -0.34157503,  0.3728915 , -1.1019475 ]]],\n",
              "      dtype=float32)>"
            ]
          },
          "metadata": {
            "tags": []
          },
          "execution_count": 17
        }
      ]
    },
    {
      "cell_type": "code",
      "metadata": {
        "colab": {
          "base_uri": "https://localhost:8080/"
        },
        "id": "5bhyKDQSwN9X",
        "outputId": "0997a9d1-51ee-49e5-d101-c85564f268d5"
      },
      "source": [
        "## Random Variable Uniformly distributed\n",
        "\n",
        "tf.random.uniform(shape=(2,3))"
      ],
      "execution_count": 18,
      "outputs": [
        {
          "output_type": "execute_result",
          "data": {
            "text/plain": [
              "<tf.Tensor: shape=(2, 3), dtype=float32, numpy=\n",
              "array([[0.50081635, 0.90957344, 0.4244337 ],\n",
              "       [0.6466601 , 0.46901035, 0.7359233 ]], dtype=float32)>"
            ]
          },
          "metadata": {
            "tags": []
          },
          "execution_count": 18
        }
      ]
    },
    {
      "cell_type": "code",
      "metadata": {
        "colab": {
          "base_uri": "https://localhost:8080/"
        },
        "id": "oVlEa_oPwK0U",
        "outputId": "5dbeabba-3f2d-4dbe-d54b-160729d9aaed"
      },
      "source": [
        "random_replicable = tf.random.Generator.from_seed(33)\n",
        "random1=random_replicable.normal(shape=(2,2))\n",
        "random1\n"
      ],
      "execution_count": 19,
      "outputs": [
        {
          "output_type": "execute_result",
          "data": {
            "text/plain": [
              "<tf.Tensor: shape=(2, 2), dtype=float32, numpy=\n",
              "array([[-0.1589871 ,  1.302304  ],\n",
              "       [ 0.9592239 ,  0.85874265]], dtype=float32)>"
            ]
          },
          "metadata": {
            "tags": []
          },
          "execution_count": 19
        }
      ]
    },
    {
      "cell_type": "code",
      "metadata": {
        "colab": {
          "base_uri": "https://localhost:8080/"
        },
        "id": "P6HzbeOIw69D",
        "outputId": "d645f9e1-167a-422d-b9a9-c16598119bb9"
      },
      "source": [
        "random_replicable = tf.random.Generator.from_seed(33)\n",
        "random2=random_replicable.normal(shape=(2,2))\n",
        "random2"
      ],
      "execution_count": 20,
      "outputs": [
        {
          "output_type": "execute_result",
          "data": {
            "text/plain": [
              "<tf.Tensor: shape=(2, 2), dtype=float32, numpy=\n",
              "array([[-0.1589871 ,  1.302304  ],\n",
              "       [ 0.9592239 ,  0.85874265]], dtype=float32)>"
            ]
          },
          "metadata": {
            "tags": []
          },
          "execution_count": 20
        }
      ]
    },
    {
      "cell_type": "code",
      "metadata": {
        "colab": {
          "base_uri": "https://localhost:8080/"
        },
        "id": "OIHRHLM5w_Kx",
        "outputId": "292dedff-eb97-4545-a6f7-1f6cf51d342a"
      },
      "source": [
        "random1,random2,random1==random2"
      ],
      "execution_count": 21,
      "outputs": [
        {
          "output_type": "execute_result",
          "data": {
            "text/plain": [
              "(<tf.Tensor: shape=(2, 2), dtype=float32, numpy=\n",
              " array([[-0.1589871 ,  1.302304  ],\n",
              "        [ 0.9592239 ,  0.85874265]], dtype=float32)>,\n",
              " <tf.Tensor: shape=(2, 2), dtype=float32, numpy=\n",
              " array([[-0.1589871 ,  1.302304  ],\n",
              "        [ 0.9592239 ,  0.85874265]], dtype=float32)>,\n",
              " <tf.Tensor: shape=(2, 2), dtype=bool, numpy=\n",
              " array([[ True,  True],\n",
              "        [ True,  True]])>)"
            ]
          },
          "metadata": {
            "tags": []
          },
          "execution_count": 21
        }
      ]
    },
    {
      "cell_type": "code",
      "metadata": {
        "colab": {
          "base_uri": "https://localhost:8080/"
        },
        "id": "X6WCc7fGzOgn",
        "outputId": "61ba2468-12fc-4284-afd5-e0baee84e0b7"
      },
      "source": [
        "## Shuffling the tensor\n",
        "newTensor=tf.constant([1,2,4,5,6,8,0])\n",
        "newTensor"
      ],
      "execution_count": 22,
      "outputs": [
        {
          "output_type": "execute_result",
          "data": {
            "text/plain": [
              "<tf.Tensor: shape=(7,), dtype=int32, numpy=array([1, 2, 4, 5, 6, 8, 0], dtype=int32)>"
            ]
          },
          "metadata": {
            "tags": []
          },
          "execution_count": 22
        }
      ]
    },
    {
      "cell_type": "code",
      "metadata": {
        "colab": {
          "base_uri": "https://localhost:8080/"
        },
        "id": "4Q7ppxT-zb1z",
        "outputId": "478924e7-dc25-4a31-a48b-42f1151d0119"
      },
      "source": [
        "tf.random.set_seed(21)\n",
        "tf.random.shuffle(newTensor,seed=21)\n"
      ],
      "execution_count": 23,
      "outputs": [
        {
          "output_type": "execute_result",
          "data": {
            "text/plain": [
              "<tf.Tensor: shape=(7,), dtype=int32, numpy=array([6, 4, 2, 5, 0, 8, 1], dtype=int32)>"
            ]
          },
          "metadata": {
            "tags": []
          },
          "execution_count": 23
        }
      ]
    },
    {
      "cell_type": "code",
      "metadata": {
        "colab": {
          "base_uri": "https://localhost:8080/"
        },
        "id": "RQmINQnv10Jo",
        "outputId": "50c3984f-c1f2-4240-ff69-5559f87f3dc0"
      },
      "source": [
        "tf.random.shuffle(newTensor,seed=21)"
      ],
      "execution_count": 24,
      "outputs": [
        {
          "output_type": "execute_result",
          "data": {
            "text/plain": [
              "<tf.Tensor: shape=(7,), dtype=int32, numpy=array([4, 8, 5, 2, 6, 1, 0], dtype=int32)>"
            ]
          },
          "metadata": {
            "tags": []
          },
          "execution_count": 24
        }
      ]
    },
    {
      "cell_type": "code",
      "metadata": {
        "colab": {
          "base_uri": "https://localhost:8080/"
        },
        "id": "JLGx7hj777MQ",
        "outputId": "f7549f40-8663-459b-efc8-39b971e33ac4"
      },
      "source": [
        "## Converting Numpy to Tensor\n",
        "\n",
        "import numpy as np\n",
        "\n",
        "numpyArray= np.arange(1,21,dtype=float)\n",
        "numpyArray\n"
      ],
      "execution_count": 25,
      "outputs": [
        {
          "output_type": "execute_result",
          "data": {
            "text/plain": [
              "array([ 1.,  2.,  3.,  4.,  5.,  6.,  7.,  8.,  9., 10., 11., 12., 13.,\n",
              "       14., 15., 16., 17., 18., 19., 20.])"
            ]
          },
          "metadata": {
            "tags": []
          },
          "execution_count": 25
        }
      ]
    },
    {
      "cell_type": "code",
      "metadata": {
        "colab": {
          "base_uri": "https://localhost:8080/"
        },
        "id": "wLgvXAMB8jX4",
        "outputId": "c8a6e800-15fc-4f35-bd6d-be2950cfa891"
      },
      "source": [
        "type(numpyArray)\n",
        "numpyArray.shape\n",
        "numpyArray.size"
      ],
      "execution_count": 26,
      "outputs": [
        {
          "output_type": "execute_result",
          "data": {
            "text/plain": [
              "20"
            ]
          },
          "metadata": {
            "tags": []
          },
          "execution_count": 26
        }
      ]
    },
    {
      "cell_type": "code",
      "metadata": {
        "colab": {
          "base_uri": "https://localhost:8080/"
        },
        "id": "n4_WhvSg8k3e",
        "outputId": "de62b24a-844e-4a76-fed5-ec5582aa3ca0"
      },
      "source": [
        "numpyTensor = tf.constant(numpyArray,shape=(2,5,2))\n",
        "numpyTensor"
      ],
      "execution_count": 27,
      "outputs": [
        {
          "output_type": "execute_result",
          "data": {
            "text/plain": [
              "<tf.Tensor: shape=(2, 5, 2), dtype=float64, numpy=\n",
              "array([[[ 1.,  2.],\n",
              "        [ 3.,  4.],\n",
              "        [ 5.,  6.],\n",
              "        [ 7.,  8.],\n",
              "        [ 9., 10.]],\n",
              "\n",
              "       [[11., 12.],\n",
              "        [13., 14.],\n",
              "        [15., 16.],\n",
              "        [17., 18.],\n",
              "        [19., 20.]]])>"
            ]
          },
          "metadata": {
            "tags": []
          },
          "execution_count": 27
        }
      ]
    },
    {
      "cell_type": "markdown",
      "metadata": {
        "id": "_G4dRcCK8BLc"
      },
      "source": [
        "Getting Information from Tensor\n",
        "\n",
        "1. Rank\n",
        "2.Shape\n",
        "3. Axis\n",
        "4. Size\n"
      ]
    },
    {
      "cell_type": "code",
      "metadata": {
        "colab": {
          "base_uri": "https://localhost:8080/"
        },
        "id": "cyjwfNQi7QNw",
        "outputId": "5d00167c-f77c-437d-8369-578a001bd2ba"
      },
      "source": [
        "#Getting Info from Tensorflow\n",
        "\n",
        "print(numpyTensor.shape)\n",
        "print(numpyTensor.ndim)\n",
        "print(tf.size(numpyTensor))\n",
        "\n",
        "print(tf.size(numpyTensor).numpy())\n"
      ],
      "execution_count": 39,
      "outputs": [
        {
          "output_type": "stream",
          "text": [
            "(2, 5, 2)\n",
            "3\n",
            "tf.Tensor(20, shape=(), dtype=int32)\n",
            "20\n"
          ],
          "name": "stdout"
        }
      ]
    },
    {
      "cell_type": "code",
      "metadata": {
        "colab": {
          "base_uri": "https://localhost:8080/"
        },
        "id": "cw1xhzMe8iGa",
        "outputId": "ba34e866-97fc-4a16-cf49-cc99a1d490cb"
      },
      "source": [
        "numpyTensor[1,2:,:3]"
      ],
      "execution_count": 37,
      "outputs": [
        {
          "output_type": "execute_result",
          "data": {
            "text/plain": [
              "<tf.Tensor: shape=(3, 2), dtype=float64, numpy=\n",
              "array([[15., 16.],\n",
              "       [17., 18.],\n",
              "       [19., 20.]])>"
            ]
          },
          "metadata": {
            "tags": []
          },
          "execution_count": 37
        }
      ]
    },
    {
      "cell_type": "code",
      "metadata": {
        "colab": {
          "base_uri": "https://localhost:8080/"
        },
        "id": "jjWfDjDWIdbF",
        "outputId": "e559ff86-8b1f-4896-a6b7-37c3d5aa1732"
      },
      "source": [
        "## Indexing and retrieving Tensor\n",
        "\n",
        "dummyTensor = tf.zeros(shape=(3,4,5,3))\n",
        "dummyTensor"
      ],
      "execution_count": 41,
      "outputs": [
        {
          "output_type": "execute_result",
          "data": {
            "text/plain": [
              "<tf.Tensor: shape=(3, 4, 5, 3), dtype=float32, numpy=\n",
              "array([[[[0., 0., 0.],\n",
              "         [0., 0., 0.],\n",
              "         [0., 0., 0.],\n",
              "         [0., 0., 0.],\n",
              "         [0., 0., 0.]],\n",
              "\n",
              "        [[0., 0., 0.],\n",
              "         [0., 0., 0.],\n",
              "         [0., 0., 0.],\n",
              "         [0., 0., 0.],\n",
              "         [0., 0., 0.]],\n",
              "\n",
              "        [[0., 0., 0.],\n",
              "         [0., 0., 0.],\n",
              "         [0., 0., 0.],\n",
              "         [0., 0., 0.],\n",
              "         [0., 0., 0.]],\n",
              "\n",
              "        [[0., 0., 0.],\n",
              "         [0., 0., 0.],\n",
              "         [0., 0., 0.],\n",
              "         [0., 0., 0.],\n",
              "         [0., 0., 0.]]],\n",
              "\n",
              "\n",
              "       [[[0., 0., 0.],\n",
              "         [0., 0., 0.],\n",
              "         [0., 0., 0.],\n",
              "         [0., 0., 0.],\n",
              "         [0., 0., 0.]],\n",
              "\n",
              "        [[0., 0., 0.],\n",
              "         [0., 0., 0.],\n",
              "         [0., 0., 0.],\n",
              "         [0., 0., 0.],\n",
              "         [0., 0., 0.]],\n",
              "\n",
              "        [[0., 0., 0.],\n",
              "         [0., 0., 0.],\n",
              "         [0., 0., 0.],\n",
              "         [0., 0., 0.],\n",
              "         [0., 0., 0.]],\n",
              "\n",
              "        [[0., 0., 0.],\n",
              "         [0., 0., 0.],\n",
              "         [0., 0., 0.],\n",
              "         [0., 0., 0.],\n",
              "         [0., 0., 0.]]],\n",
              "\n",
              "\n",
              "       [[[0., 0., 0.],\n",
              "         [0., 0., 0.],\n",
              "         [0., 0., 0.],\n",
              "         [0., 0., 0.],\n",
              "         [0., 0., 0.]],\n",
              "\n",
              "        [[0., 0., 0.],\n",
              "         [0., 0., 0.],\n",
              "         [0., 0., 0.],\n",
              "         [0., 0., 0.],\n",
              "         [0., 0., 0.]],\n",
              "\n",
              "        [[0., 0., 0.],\n",
              "         [0., 0., 0.],\n",
              "         [0., 0., 0.],\n",
              "         [0., 0., 0.],\n",
              "         [0., 0., 0.]],\n",
              "\n",
              "        [[0., 0., 0.],\n",
              "         [0., 0., 0.],\n",
              "         [0., 0., 0.],\n",
              "         [0., 0., 0.],\n",
              "         [0., 0., 0.]]]], dtype=float32)>"
            ]
          },
          "metadata": {
            "tags": []
          },
          "execution_count": 41
        }
      ]
    },
    {
      "cell_type": "code",
      "metadata": {
        "colab": {
          "base_uri": "https://localhost:8080/"
        },
        "id": "gTv7lmEFIyKl",
        "outputId": "394bd5b6-6566-4a92-f6b1-ea1b140e975e"
      },
      "source": [
        "#Getting first 2 values of each dimension\n",
        "\n",
        "dummyTensor[:2,:2,:2,:2]"
      ],
      "execution_count": 47,
      "outputs": [
        {
          "output_type": "execute_result",
          "data": {
            "text/plain": [
              "<tf.Tensor: shape=(2, 2, 2, 2), dtype=float32, numpy=\n",
              "array([[[[0., 0.],\n",
              "         [0., 0.]],\n",
              "\n",
              "        [[0., 0.],\n",
              "         [0., 0.]]],\n",
              "\n",
              "\n",
              "       [[[0., 0.],\n",
              "         [0., 0.]],\n",
              "\n",
              "        [[0., 0.],\n",
              "         [0., 0.]]]], dtype=float32)>"
            ]
          },
          "metadata": {
            "tags": []
          },
          "execution_count": 47
        }
      ]
    },
    {
      "cell_type": "code",
      "metadata": {
        "colab": {
          "base_uri": "https://localhost:8080/"
        },
        "id": "zGP_KMYHJ0qW",
        "outputId": "47728242-1eb7-4b90-de61-3b8902141d2c"
      },
      "source": [
        "#Getting first 2 values of each dimension except one dimension\n",
        "\n",
        "dummyTensor[:2,:2,:2,:]"
      ],
      "execution_count": 52,
      "outputs": [
        {
          "output_type": "execute_result",
          "data": {
            "text/plain": [
              "<tf.Tensor: shape=(2, 2, 2, 3), dtype=float32, numpy=\n",
              "array([[[[0., 0., 0.],\n",
              "         [0., 0., 0.]],\n",
              "\n",
              "        [[0., 0., 0.],\n",
              "         [0., 0., 0.]]],\n",
              "\n",
              "\n",
              "       [[[0., 0., 0.],\n",
              "         [0., 0., 0.]],\n",
              "\n",
              "        [[0., 0., 0.],\n",
              "         [0., 0., 0.]]]], dtype=float32)>"
            ]
          },
          "metadata": {
            "tags": []
          },
          "execution_count": 52
        }
      ]
    },
    {
      "cell_type": "code",
      "metadata": {
        "colab": {
          "base_uri": "https://localhost:8080/"
        },
        "id": "WGNXG1nWKGa_",
        "outputId": "6e89e344-b9d5-4c93-dd68-c76348446260"
      },
      "source": [
        "dummyTensor.shape"
      ],
      "execution_count": 53,
      "outputs": [
        {
          "output_type": "execute_result",
          "data": {
            "text/plain": [
              "TensorShape([3, 4, 5, 3])"
            ]
          },
          "metadata": {
            "tags": []
          },
          "execution_count": 53
        }
      ]
    },
    {
      "cell_type": "code",
      "metadata": {
        "colab": {
          "base_uri": "https://localhost:8080/"
        },
        "id": "Q7e2dQP4KLTt",
        "outputId": "0469d9a1-c791-459b-aa16-961db764d509"
      },
      "source": [
        "3*4*5*3"
      ],
      "execution_count": 54,
      "outputs": [
        {
          "output_type": "execute_result",
          "data": {
            "text/plain": [
              "180"
            ]
          },
          "metadata": {
            "tags": []
          },
          "execution_count": 54
        }
      ]
    },
    {
      "cell_type": "code",
      "metadata": {
        "colab": {
          "base_uri": "https://localhost:8080/"
        },
        "id": "rvRM70SuKO5n",
        "outputId": "e4e02c64-edba-4b53-fd9c-bf119ddbb5cb"
      },
      "source": [
        "18*5*2"
      ],
      "execution_count": 55,
      "outputs": [
        {
          "output_type": "execute_result",
          "data": {
            "text/plain": [
              "180"
            ]
          },
          "metadata": {
            "tags": []
          },
          "execution_count": 55
        }
      ]
    },
    {
      "cell_type": "code",
      "metadata": {
        "colab": {
          "base_uri": "https://localhost:8080/"
        },
        "id": "AJC-rnaPKWKU",
        "outputId": "f6a86b46-e16d-4cae-df15-85374048894d"
      },
      "source": [
        "tf.reshape(dummyTensor,shape=(18,5,2),name=\"reShapedTensor\")"
      ],
      "execution_count": 58,
      "outputs": [
        {
          "output_type": "execute_result",
          "data": {
            "text/plain": [
              "<tf.Tensor: shape=(18, 5, 2), dtype=float32, numpy=\n",
              "array([[[0., 0.],\n",
              "        [0., 0.],\n",
              "        [0., 0.],\n",
              "        [0., 0.],\n",
              "        [0., 0.]],\n",
              "\n",
              "       [[0., 0.],\n",
              "        [0., 0.],\n",
              "        [0., 0.],\n",
              "        [0., 0.],\n",
              "        [0., 0.]],\n",
              "\n",
              "       [[0., 0.],\n",
              "        [0., 0.],\n",
              "        [0., 0.],\n",
              "        [0., 0.],\n",
              "        [0., 0.]],\n",
              "\n",
              "       [[0., 0.],\n",
              "        [0., 0.],\n",
              "        [0., 0.],\n",
              "        [0., 0.],\n",
              "        [0., 0.]],\n",
              "\n",
              "       [[0., 0.],\n",
              "        [0., 0.],\n",
              "        [0., 0.],\n",
              "        [0., 0.],\n",
              "        [0., 0.]],\n",
              "\n",
              "       [[0., 0.],\n",
              "        [0., 0.],\n",
              "        [0., 0.],\n",
              "        [0., 0.],\n",
              "        [0., 0.]],\n",
              "\n",
              "       [[0., 0.],\n",
              "        [0., 0.],\n",
              "        [0., 0.],\n",
              "        [0., 0.],\n",
              "        [0., 0.]],\n",
              "\n",
              "       [[0., 0.],\n",
              "        [0., 0.],\n",
              "        [0., 0.],\n",
              "        [0., 0.],\n",
              "        [0., 0.]],\n",
              "\n",
              "       [[0., 0.],\n",
              "        [0., 0.],\n",
              "        [0., 0.],\n",
              "        [0., 0.],\n",
              "        [0., 0.]],\n",
              "\n",
              "       [[0., 0.],\n",
              "        [0., 0.],\n",
              "        [0., 0.],\n",
              "        [0., 0.],\n",
              "        [0., 0.]],\n",
              "\n",
              "       [[0., 0.],\n",
              "        [0., 0.],\n",
              "        [0., 0.],\n",
              "        [0., 0.],\n",
              "        [0., 0.]],\n",
              "\n",
              "       [[0., 0.],\n",
              "        [0., 0.],\n",
              "        [0., 0.],\n",
              "        [0., 0.],\n",
              "        [0., 0.]],\n",
              "\n",
              "       [[0., 0.],\n",
              "        [0., 0.],\n",
              "        [0., 0.],\n",
              "        [0., 0.],\n",
              "        [0., 0.]],\n",
              "\n",
              "       [[0., 0.],\n",
              "        [0., 0.],\n",
              "        [0., 0.],\n",
              "        [0., 0.],\n",
              "        [0., 0.]],\n",
              "\n",
              "       [[0., 0.],\n",
              "        [0., 0.],\n",
              "        [0., 0.],\n",
              "        [0., 0.],\n",
              "        [0., 0.]],\n",
              "\n",
              "       [[0., 0.],\n",
              "        [0., 0.],\n",
              "        [0., 0.],\n",
              "        [0., 0.],\n",
              "        [0., 0.]],\n",
              "\n",
              "       [[0., 0.],\n",
              "        [0., 0.],\n",
              "        [0., 0.],\n",
              "        [0., 0.],\n",
              "        [0., 0.]],\n",
              "\n",
              "       [[0., 0.],\n",
              "        [0., 0.],\n",
              "        [0., 0.],\n",
              "        [0., 0.],\n",
              "        [0., 0.]]], dtype=float32)>"
            ]
          },
          "metadata": {
            "tags": []
          },
          "execution_count": 58
        }
      ]
    },
    {
      "cell_type": "code",
      "metadata": {
        "colab": {
          "base_uri": "https://localhost:8080/"
        },
        "id": "qLs6jP-dL9UH",
        "outputId": "dc38cfd6-1a9e-4ccc-d841-55aff7c8b29f"
      },
      "source": [
        "#Adding a dimension\n",
        "matrix.ndim\n",
        "matrix"
      ],
      "execution_count": 62,
      "outputs": [
        {
          "output_type": "execute_result",
          "data": {
            "text/plain": [
              "<tf.Tensor: shape=(2, 2), dtype=int32, numpy=\n",
              "array([[2, 4],\n",
              "       [3, 4]], dtype=int32)>"
            ]
          },
          "metadata": {
            "tags": []
          },
          "execution_count": 62
        }
      ]
    },
    {
      "cell_type": "code",
      "metadata": {
        "colab": {
          "base_uri": "https://localhost:8080/"
        },
        "id": "3Z7nzTFSMILA",
        "outputId": "7171eb8c-398b-4c0d-9627-fd2f12ce6707"
      },
      "source": [
        "newMatrix=matrix[...,tf.newaxis]\n",
        "newMatrix"
      ],
      "execution_count": 61,
      "outputs": [
        {
          "output_type": "execute_result",
          "data": {
            "text/plain": [
              "<tf.Tensor: shape=(2, 2, 1), dtype=int32, numpy=\n",
              "array([[[2],\n",
              "        [4]],\n",
              "\n",
              "       [[3],\n",
              "        [4]]], dtype=int32)>"
            ]
          },
          "metadata": {
            "tags": []
          },
          "execution_count": 61
        }
      ]
    },
    {
      "cell_type": "code",
      "metadata": {
        "colab": {
          "base_uri": "https://localhost:8080/"
        },
        "id": "phVygUxHMcuC",
        "outputId": "d8dc841e-0ad7-4eb4-8d86-c11d87109eee"
      },
      "source": [
        "tf.expand_dims(newMatrix,axis=3)"
      ],
      "execution_count": 66,
      "outputs": [
        {
          "output_type": "execute_result",
          "data": {
            "text/plain": [
              "<tf.Tensor: shape=(2, 2, 1, 1), dtype=int32, numpy=\n",
              "array([[[[2]],\n",
              "\n",
              "        [[4]]],\n",
              "\n",
              "\n",
              "       [[[3]],\n",
              "\n",
              "        [[4]]]], dtype=int32)>"
            ]
          },
          "metadata": {
            "tags": []
          },
          "execution_count": 66
        }
      ]
    },
    {
      "cell_type": "code",
      "metadata": {
        "colab": {
          "base_uri": "https://localhost:8080/"
        },
        "id": "8ljvRdKbNqNi",
        "outputId": "3511c6cd-52e2-4c7d-99c3-928320f09ca5"
      },
      "source": [
        "### Manipulating Tensors\n",
        "## Basic Operation +,-,*,/\n",
        "\n",
        "\n",
        "randomTensor= tf.random.normal(shape=(2,3))\n",
        "randomTensor"
      ],
      "execution_count": 93,
      "outputs": [
        {
          "output_type": "execute_result",
          "data": {
            "text/plain": [
              "<tf.Tensor: shape=(2, 3), dtype=float32, numpy=\n",
              "array([[ 0.02590763,  0.25280836,  0.77750325],\n",
              "       [ 0.8310911 ,  0.5512013 , -0.59923774]], dtype=float32)>"
            ]
          },
          "metadata": {
            "tags": []
          },
          "execution_count": 93
        }
      ]
    },
    {
      "cell_type": "code",
      "metadata": {
        "colab": {
          "base_uri": "https://localhost:8080/"
        },
        "id": "bvG8lZtIQSyW",
        "outputId": "7ce3e4e2-e0e8-43da-a411-25ad7bd5a509"
      },
      "source": [
        "randomIntegers= np.random.rand(3,2)\n",
        "randomIntegers"
      ],
      "execution_count": 97,
      "outputs": [
        {
          "output_type": "execute_result",
          "data": {
            "text/plain": [
              "array([[0.41305272, 0.17694314],\n",
              "       [0.14437343, 0.64105902],\n",
              "       [0.9565581 , 0.66566449]])"
            ]
          },
          "metadata": {
            "tags": []
          },
          "execution_count": 97
        }
      ]
    },
    {
      "cell_type": "code",
      "metadata": {
        "colab": {
          "base_uri": "https://localhost:8080/"
        },
        "id": "yx-XmqpSQwtb",
        "outputId": "93d96418-9422-4757-bd3d-9756682535f1"
      },
      "source": [
        "newRandomTensor=tf.constant(randomIntegers,dtype=\"float32\")\n",
        "newRandomTensor"
      ],
      "execution_count": 98,
      "outputs": [
        {
          "output_type": "execute_result",
          "data": {
            "text/plain": [
              "<tf.Tensor: shape=(3, 2), dtype=float32, numpy=\n",
              "array([[0.4130527 , 0.17694314],\n",
              "       [0.14437343, 0.64105904],\n",
              "       [0.9565581 , 0.6656645 ]], dtype=float32)>"
            ]
          },
          "metadata": {
            "tags": []
          },
          "execution_count": 98
        }
      ]
    },
    {
      "cell_type": "code",
      "metadata": {
        "colab": {
          "base_uri": "https://localhost:8080/"
        },
        "id": "mgtERd36Q8pS",
        "outputId": "bed46627-bb5b-48d7-f13a-5c8091671a6d"
      },
      "source": [
        "newRandomTensor+5,tf.add(newRandomTensor,5),newRandomTensor+5==tf.add(newRandomTensor,5)"
      ],
      "execution_count": 96,
      "outputs": [
        {
          "output_type": "execute_result",
          "data": {
            "text/plain": [
              "(<tf.Tensor: shape=(2, 3), dtype=float32, numpy=\n",
              " array([[5.321678 , 5.145473 , 5.427674 ],\n",
              "        [5.1357193, 5.552322 , 5.701884 ]], dtype=float32)>,\n",
              " <tf.Tensor: shape=(2, 3), dtype=float32, numpy=\n",
              " array([[5.321678 , 5.145473 , 5.427674 ],\n",
              "        [5.1357193, 5.552322 , 5.701884 ]], dtype=float32)>,\n",
              " <tf.Tensor: shape=(2, 3), dtype=bool, numpy=\n",
              " array([[ True,  True,  True],\n",
              "        [ True,  True,  True]])>)"
            ]
          },
          "metadata": {
            "tags": []
          },
          "execution_count": 96
        }
      ]
    },
    {
      "cell_type": "code",
      "metadata": {
        "colab": {
          "base_uri": "https://localhost:8080/"
        },
        "id": "BeoIwd8QRB08",
        "outputId": "aa4a2354-e606-4f53-9664-974cc52dfbf0"
      },
      "source": [
        "## Matrix Multiplication\n",
        "\n",
        "tf.matmul(randomTensor,newRandomTensor)\n"
      ],
      "execution_count": 99,
      "outputs": [
        {
          "output_type": "execute_result",
          "data": {
            "text/plain": [
              "<tf.Tensor: shape=(2, 2), dtype=float32, numpy=\n",
              "array([[ 0.79092705,  0.6842056 ],\n",
              "       [-0.15034246,  0.10151711]], dtype=float32)>"
            ]
          },
          "metadata": {
            "tags": []
          },
          "execution_count": 99
        }
      ]
    },
    {
      "cell_type": "code",
      "metadata": {
        "colab": {
          "base_uri": "https://localhost:8080/"
        },
        "id": "fhxW1XvRWIPe",
        "outputId": "699a5210-b130-48b9-c863-132f0a605ae8"
      },
      "source": [
        "tf.tensordot(randomTensor,newRandomTensor,axes=2). # Check whats axes\n",
        "\n"
      ],
      "execution_count": 107,
      "outputs": [
        {
          "output_type": "execute_result",
          "data": {
            "text/plain": [
              "<tf.Tensor: shape=(), dtype=float32, numpy=0.8288279>"
            ]
          },
          "metadata": {
            "tags": []
          },
          "execution_count": 107
        }
      ]
    },
    {
      "cell_type": "code",
      "metadata": {
        "colab": {
          "base_uri": "https://localhost:8080/"
        },
        "id": "vuUGcoE-YuoZ",
        "outputId": "e489cd8f-7854-4afb-d499-37ae16d4486a"
      },
      "source": [
        "newRandomTensorFloat16=tf.cast(newRandomTensor,dtype=tf.float64)\n",
        "newRandomTensorFloat16"
      ],
      "execution_count": 110,
      "outputs": [
        {
          "output_type": "execute_result",
          "data": {
            "text/plain": [
              "<tf.Tensor: shape=(3, 2), dtype=float64, numpy=\n",
              "array([[0.41305271, 0.17694314],\n",
              "       [0.14437343, 0.64105904],\n",
              "       [0.95655811, 0.66566449]])>"
            ]
          },
          "metadata": {
            "tags": []
          },
          "execution_count": 110
        }
      ]
    }
  ]
}