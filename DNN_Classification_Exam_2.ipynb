{
  "nbformat": 4,
  "nbformat_minor": 0,
  "metadata": {
    "colab": {
      "name": "DNN-Classification-Exam 2.ipynb",
      "provenance": [],
      "collapsed_sections": [],
      "authorship_tag": "ABX9TyNLd23RaeNmk4uibGG4kTVP",
      "include_colab_link": true
    },
    "kernelspec": {
      "name": "python3",
      "display_name": "Python 3"
    },
    "language_info": {
      "name": "python"
    }
  },
  "cells": [
    {
      "cell_type": "markdown",
      "metadata": {
        "id": "view-in-github",
        "colab_type": "text"
      },
      "source": [
        "<a href=\"https://colab.research.google.com/github/rajenbala/dlaicourse/blob/master/DNN_Classification_Exam_2.ipynb\" target=\"_parent\"><img src=\"https://colab.research.google.com/assets/colab-badge.svg\" alt=\"Open In Colab\"/></a>"
      ]
    },
    {
      "cell_type": "code",
      "metadata": {
        "colab": {
          "base_uri": "https://localhost:8080/"
        },
        "id": "36ZaX0D_US8C",
        "outputId": "14b009f8-b35d-41f5-ec88-657eb4831965"
      },
      "source": [
        "import tensorflow as tf\n",
        "print(tf.__version__)"
      ],
      "execution_count": 45,
      "outputs": [
        {
          "output_type": "stream",
          "text": [
            "2.4.1\n"
          ],
          "name": "stdout"
        }
      ]
    },
    {
      "cell_type": "code",
      "metadata": {
        "id": "v-iO4QRbU43g"
      },
      "source": [
        "fashion_minst = tf.keras.datasets.fashion_mnist\n",
        "(X_train, y_train), (X_test, y_test) = fashion_minst.load_data()"
      ],
      "execution_count": 46,
      "outputs": []
    },
    {
      "cell_type": "code",
      "metadata": {
        "colab": {
          "base_uri": "https://localhost:8080/"
        },
        "id": "y6Mcq2vpVJZM",
        "outputId": "5a791961-904e-4c55-9ee6-4fd5fb2b9df3"
      },
      "source": [
        "X_train = X_train/255\n",
        "X_test = X_test/255\n",
        "X_train.shape"
      ],
      "execution_count": 47,
      "outputs": [
        {
          "output_type": "execute_result",
          "data": {
            "text/plain": [
              "(60000, 28, 28)"
            ]
          },
          "metadata": {
            "tags": []
          },
          "execution_count": 47
        }
      ]
    },
    {
      "cell_type": "code",
      "metadata": {
        "colab": {
          "base_uri": "https://localhost:8080/"
        },
        "id": "Fyvmjy1VWb5Q",
        "outputId": "cab160e9-e77a-4920-a169-56319ba9377a"
      },
      "source": [
        "y_test\n",
        "set(y_test)"
      ],
      "execution_count": 48,
      "outputs": [
        {
          "output_type": "execute_result",
          "data": {
            "text/plain": [
              "{0, 1, 2, 3, 4, 5, 6, 7, 8, 9}"
            ]
          },
          "metadata": {
            "tags": []
          },
          "execution_count": 48
        }
      ]
    },
    {
      "cell_type": "code",
      "metadata": {
        "colab": {
          "base_uri": "https://localhost:8080/",
          "height": 37
        },
        "id": "kB6TqWu9XAfp",
        "outputId": "ebb7feca-9f3b-49a4-b300-47821f241ecf"
      },
      "source": [
        "class_names = ['T-shirt/top', 'Trouser', 'Pullover', 'Dress', 'Coat',\n",
        "               'Sandal', 'Shirt', 'Sneaker', 'Bag', 'Ankle boot']\n",
        "\n",
        "class_names[y_test[9]]"
      ],
      "execution_count": 49,
      "outputs": [
        {
          "output_type": "execute_result",
          "data": {
            "application/vnd.google.colaboratory.intrinsic+json": {
              "type": "string"
            },
            "text/plain": [
              "'Sneaker'"
            ]
          },
          "metadata": {
            "tags": []
          },
          "execution_count": 49
        }
      ]
    },
    {
      "cell_type": "code",
      "metadata": {
        "id": "5xAAXTqNXHVP"
      },
      "source": [
        "firstModel = tf.keras.models.Sequential([\n",
        "                                         tf.keras.layers.Flatten(input_shape=[28,28]),\n",
        "                                         tf.keras.layers.Dense(300,activation=\"relu\"),\n",
        "                                         tf.keras.layers.Dense(100,activation=\"relu\"),\n",
        "                                         tf.keras.layers.Dense(10,activation=\"softmax\")\n",
        "])"
      ],
      "execution_count": 50,
      "outputs": []
    },
    {
      "cell_type": "code",
      "metadata": {
        "colab": {
          "base_uri": "https://localhost:8080/"
        },
        "id": "PpviNz70YBSa",
        "outputId": "e3946987-e7fc-460c-eafb-4c17cf2e3891"
      },
      "source": [
        "firstModel.summary()"
      ],
      "execution_count": 51,
      "outputs": [
        {
          "output_type": "stream",
          "text": [
            "Model: \"sequential_1\"\n",
            "_________________________________________________________________\n",
            "Layer (type)                 Output Shape              Param #   \n",
            "=================================================================\n",
            "flatten_1 (Flatten)          (None, 784)               0         \n",
            "_________________________________________________________________\n",
            "dense_3 (Dense)              (None, 300)               235500    \n",
            "_________________________________________________________________\n",
            "dense_4 (Dense)              (None, 100)               30100     \n",
            "_________________________________________________________________\n",
            "dense_5 (Dense)              (None, 10)                1010      \n",
            "=================================================================\n",
            "Total params: 266,610\n",
            "Trainable params: 266,610\n",
            "Non-trainable params: 0\n",
            "_________________________________________________________________\n"
          ],
          "name": "stdout"
        }
      ]
    },
    {
      "cell_type": "code",
      "metadata": {
        "colab": {
          "base_uri": "https://localhost:8080/",
          "height": 533
        },
        "id": "FfhM0QUYYdZT",
        "outputId": "cdd05691-5796-4f1e-97a3-983c9f0175fa"
      },
      "source": [
        "from tensorflow.keras.utils import plot_model\n",
        "plot_model(model=firstModel,show_shapes=True)"
      ],
      "execution_count": 52,
      "outputs": [
        {
          "output_type": "execute_result",
          "data": {
            "image/png": "[encoded data removed]",
            "text/plain": [
              "<IPython.core.display.Image object>"
            ]
          },
          "metadata": {
            "tags": []
          },
          "execution_count": 52
        }
      ]
    },
    {
      "cell_type": "code",
      "metadata": {
        "colab": {
          "base_uri": "https://localhost:8080/"
        },
        "id": "g82noWa7ZA4M",
        "outputId": "cda0c7c7-eeb9-40a8-f3e2-24c7f283c942"
      },
      "source": [
        "#Checking initial weights and bias\n",
        "\n",
        "#getting the layers\n",
        "hidden_layers=firstModel.layers\n",
        "hidden_layers"
      ],
      "execution_count": 53,
      "outputs": [
        {
          "output_type": "execute_result",
          "data": {
            "text/plain": [
              "[<tensorflow.python.keras.layers.core.Flatten at 0x7f9087b0fe90>,\n",
              " <tensorflow.python.keras.layers.core.Dense at 0x7f9087b0fed0>,\n",
              " <tensorflow.python.keras.layers.core.Dense at 0x7f9087b0f990>,\n",
              " <tensorflow.python.keras.layers.core.Dense at 0x7f9087b0fb50>]"
            ]
          },
          "metadata": {
            "tags": []
          },
          "execution_count": 53
        }
      ]
    },
    {
      "cell_type": "code",
      "metadata": {
        "colab": {
          "base_uri": "https://localhost:8080/"
        },
        "id": "Z2OZgbcEZyTW",
        "outputId": "76ae332e-118a-42c9-a0f8-bcbc5624d1ec"
      },
      "source": [
        "#getting a particular layer\n",
        "\n",
        "hidden_layer_1 = firstModel.layers[1]\n",
        "hidden_layer_1"
      ],
      "execution_count": 54,
      "outputs": [
        {
          "output_type": "execute_result",
          "data": {
            "text/plain": [
              "<tensorflow.python.keras.layers.core.Dense at 0x7f9087b0fed0>"
            ]
          },
          "metadata": {
            "tags": []
          },
          "execution_count": 54
        }
      ]
    },
    {
      "cell_type": "code",
      "metadata": {
        "colab": {
          "base_uri": "https://localhost:8080/"
        },
        "id": "OyO9iCShZ86i",
        "outputId": "e5be900f-ee9c-4d59-a37f-76b7a30b8f94"
      },
      "source": [
        "#Getting initial weights\n",
        "\n",
        "weights1,biases1 = hidden_layer_1.get_weights()\n",
        "weights1,biases1\n"
      ],
      "execution_count": 55,
      "outputs": [
        {
          "output_type": "execute_result",
          "data": {
            "text/plain": [
              "(array([[ 0.02631668, -0.03289274,  0.04061181, ...,  0.00646128,\n",
              "         -0.02254102, -0.01119977],\n",
              "        [-0.07377794, -0.01567322, -0.00774591, ..., -0.00403733,\n",
              "         -0.07030234, -0.04259096],\n",
              "        [-0.00112944, -0.06974302, -0.01828267, ..., -0.04289088,\n",
              "         -0.04266445,  0.05938141],\n",
              "        ...,\n",
              "        [ 0.03962949, -0.01673756,  0.02178609, ..., -0.02936682,\n",
              "         -0.03588974,  0.03244493],\n",
              "        [ 0.07286641,  0.04475661, -0.03669247, ..., -0.06270614,\n",
              "         -0.03672601, -0.05262734],\n",
              "        [-0.01641525,  0.06368397, -0.01493595, ..., -0.0410893 ,\n",
              "         -0.04994595, -0.04384748]], dtype=float32),\n",
              " array([0., 0., 0., 0., 0., 0., 0., 0., 0., 0., 0., 0., 0., 0., 0., 0., 0.,\n",
              "        0., 0., 0., 0., 0., 0., 0., 0., 0., 0., 0., 0., 0., 0., 0., 0., 0.,\n",
              "        0., 0., 0., 0., 0., 0., 0., 0., 0., 0., 0., 0., 0., 0., 0., 0., 0.,\n",
              "        0., 0., 0., 0., 0., 0., 0., 0., 0., 0., 0., 0., 0., 0., 0., 0., 0.,\n",
              "        0., 0., 0., 0., 0., 0., 0., 0., 0., 0., 0., 0., 0., 0., 0., 0., 0.,\n",
              "        0., 0., 0., 0., 0., 0., 0., 0., 0., 0., 0., 0., 0., 0., 0., 0., 0.,\n",
              "        0., 0., 0., 0., 0., 0., 0., 0., 0., 0., 0., 0., 0., 0., 0., 0., 0.,\n",
              "        0., 0., 0., 0., 0., 0., 0., 0., 0., 0., 0., 0., 0., 0., 0., 0., 0.,\n",
              "        0., 0., 0., 0., 0., 0., 0., 0., 0., 0., 0., 0., 0., 0., 0., 0., 0.,\n",
              "        0., 0., 0., 0., 0., 0., 0., 0., 0., 0., 0., 0., 0., 0., 0., 0., 0.,\n",
              "        0., 0., 0., 0., 0., 0., 0., 0., 0., 0., 0., 0., 0., 0., 0., 0., 0.,\n",
              "        0., 0., 0., 0., 0., 0., 0., 0., 0., 0., 0., 0., 0., 0., 0., 0., 0.,\n",
              "        0., 0., 0., 0., 0., 0., 0., 0., 0., 0., 0., 0., 0., 0., 0., 0., 0.,\n",
              "        0., 0., 0., 0., 0., 0., 0., 0., 0., 0., 0., 0., 0., 0., 0., 0., 0.,\n",
              "        0., 0., 0., 0., 0., 0., 0., 0., 0., 0., 0., 0., 0., 0., 0., 0., 0.,\n",
              "        0., 0., 0., 0., 0., 0., 0., 0., 0., 0., 0., 0., 0., 0., 0., 0., 0.,\n",
              "        0., 0., 0., 0., 0., 0., 0., 0., 0., 0., 0., 0., 0., 0., 0., 0., 0.,\n",
              "        0., 0., 0., 0., 0., 0., 0., 0., 0., 0., 0.], dtype=float32))"
            ]
          },
          "metadata": {
            "tags": []
          },
          "execution_count": 55
        }
      ]
    },
    {
      "cell_type": "code",
      "metadata": {
        "colab": {
          "base_uri": "https://localhost:8080/"
        },
        "id": "VFLLyqSKaZ65",
        "outputId": "17806ed2-4021-42e6-fb7e-8943cbfca205"
      },
      "source": [
        "biases1.shape #One bias for each node . Total node -300"
      ],
      "execution_count": 56,
      "outputs": [
        {
          "output_type": "execute_result",
          "data": {
            "text/plain": [
              "(300,)"
            ]
          },
          "metadata": {
            "tags": []
          },
          "execution_count": 56
        }
      ]
    },
    {
      "cell_type": "code",
      "metadata": {
        "colab": {
          "base_uri": "https://localhost:8080/"
        },
        "id": "GF95cb0dajQA",
        "outputId": "5e9f1e34-97a3-479f-a1df-002283a40689"
      },
      "source": [
        "weights.shape #Each layer 784 input,each input one weight so total of 784 weights for one node. Total no.of nodes -300 .. SO 784*300"
      ],
      "execution_count": 57,
      "outputs": [
        {
          "output_type": "execute_result",
          "data": {
            "text/plain": [
              "(784, 300)"
            ]
          },
          "metadata": {
            "tags": []
          },
          "execution_count": 57
        }
      ]
    },
    {
      "cell_type": "code",
      "metadata": {
        "id": "Al1EUa6xtCuY"
      },
      "source": [
        "X_Dev=X_train[:50000]\n",
        "X_Val=X_train[50000:]\n",
        "y_Dev=y_train[:50000]\n",
        "y_Val=y_train[50000:]"
      ],
      "execution_count": 58,
      "outputs": []
    },
    {
      "cell_type": "code",
      "metadata": {
        "colab": {
          "base_uri": "https://localhost:8080/"
        },
        "id": "LNyUSDjxeBzf",
        "outputId": "3bb84efe-aa31-49a0-cd41-fb5323b3a832"
      },
      "source": [
        "## Compilation of model\n",
        "\n",
        "firstModel.compile(loss=tf.keras.losses.sparse_categorical_crossentropy,optimizer=tf.keras.optimizers.SGD(),metrics=[\"accuracy\"])\n",
        "\n",
        "firstModel.fit(X_Dev,y_Dev,epochs=30,validation_data=(X_Val,y_Val))"
      ],
      "execution_count": 59,
      "outputs": [
        {
          "output_type": "stream",
          "text": [
            "Epoch 1/30\n",
            "1563/1563 [==============================] - 6s 4ms/step - loss: 1.0172 - accuracy: 0.6779 - val_loss: 0.5335 - val_accuracy: 0.8154\n",
            "Epoch 2/30\n",
            "1563/1563 [==============================] - 5s 4ms/step - loss: 0.5109 - accuracy: 0.8232 - val_loss: 0.4800 - val_accuracy: 0.8279\n",
            "Epoch 3/30\n",
            "1563/1563 [==============================] - 6s 4ms/step - loss: 0.4603 - accuracy: 0.8413 - val_loss: 0.4604 - val_accuracy: 0.8378\n",
            "Epoch 4/30\n",
            "1563/1563 [==============================] - 6s 4ms/step - loss: 0.4333 - accuracy: 0.8493 - val_loss: 0.4917 - val_accuracy: 0.8197\n",
            "Epoch 5/30\n",
            "1563/1563 [==============================] - 6s 4ms/step - loss: 0.4054 - accuracy: 0.8585 - val_loss: 0.4082 - val_accuracy: 0.8537\n",
            "Epoch 6/30\n",
            "1563/1563 [==============================] - 5s 3ms/step - loss: 0.3874 - accuracy: 0.8646 - val_loss: 0.4619 - val_accuracy: 0.8305\n",
            "Epoch 7/30\n",
            "1563/1563 [==============================] - 6s 4ms/step - loss: 0.3747 - accuracy: 0.8686 - val_loss: 0.3914 - val_accuracy: 0.8657\n",
            "Epoch 8/30\n",
            "1563/1563 [==============================] - 6s 4ms/step - loss: 0.3642 - accuracy: 0.8697 - val_loss: 0.3877 - val_accuracy: 0.8650\n",
            "Epoch 9/30\n",
            "1563/1563 [==============================] - 5s 4ms/step - loss: 0.3529 - accuracy: 0.8745 - val_loss: 0.3889 - val_accuracy: 0.8646\n",
            "Epoch 10/30\n",
            "1563/1563 [==============================] - 6s 4ms/step - loss: 0.3388 - accuracy: 0.8794 - val_loss: 0.3630 - val_accuracy: 0.8707\n",
            "Epoch 11/30\n",
            "1563/1563 [==============================] - 6s 4ms/step - loss: 0.3311 - accuracy: 0.8831 - val_loss: 0.3624 - val_accuracy: 0.8723\n",
            "Epoch 12/30\n",
            "1563/1563 [==============================] - 6s 4ms/step - loss: 0.3256 - accuracy: 0.8836 - val_loss: 0.3610 - val_accuracy: 0.8715\n",
            "Epoch 13/30\n",
            "1563/1563 [==============================] - 6s 4ms/step - loss: 0.3076 - accuracy: 0.8885 - val_loss: 0.3706 - val_accuracy: 0.8662\n",
            "Epoch 14/30\n",
            "1563/1563 [==============================] - 6s 4ms/step - loss: 0.3126 - accuracy: 0.8884 - val_loss: 0.3468 - val_accuracy: 0.8795\n",
            "Epoch 15/30\n",
            "1563/1563 [==============================] - 6s 4ms/step - loss: 0.2994 - accuracy: 0.8926 - val_loss: 0.3447 - val_accuracy: 0.8754\n",
            "Epoch 16/30\n",
            "1563/1563 [==============================] - 6s 4ms/step - loss: 0.2922 - accuracy: 0.8945 - val_loss: 0.3339 - val_accuracy: 0.8816\n",
            "Epoch 17/30\n",
            "1563/1563 [==============================] - 6s 4ms/step - loss: 0.2868 - accuracy: 0.8988 - val_loss: 0.3496 - val_accuracy: 0.8766\n",
            "Epoch 18/30\n",
            "1563/1563 [==============================] - 5s 4ms/step - loss: 0.2880 - accuracy: 0.8963 - val_loss: 0.3427 - val_accuracy: 0.8795\n",
            "Epoch 19/30\n",
            "1563/1563 [==============================] - 6s 4ms/step - loss: 0.2792 - accuracy: 0.8983 - val_loss: 0.3384 - val_accuracy: 0.8774\n",
            "Epoch 20/30\n",
            "1563/1563 [==============================] - 6s 4ms/step - loss: 0.2714 - accuracy: 0.9021 - val_loss: 0.3281 - val_accuracy: 0.8845\n",
            "Epoch 21/30\n",
            "1563/1563 [==============================] - 6s 4ms/step - loss: 0.2690 - accuracy: 0.9045 - val_loss: 0.3332 - val_accuracy: 0.8832\n",
            "Epoch 22/30\n",
            "1563/1563 [==============================] - 6s 4ms/step - loss: 0.2684 - accuracy: 0.9036 - val_loss: 0.3329 - val_accuracy: 0.8835\n",
            "Epoch 23/30\n",
            "1563/1563 [==============================] - 6s 4ms/step - loss: 0.2583 - accuracy: 0.9073 - val_loss: 0.3331 - val_accuracy: 0.8809\n",
            "Epoch 24/30\n",
            "1563/1563 [==============================] - 6s 4ms/step - loss: 0.2552 - accuracy: 0.9085 - val_loss: 0.3223 - val_accuracy: 0.8819\n",
            "Epoch 25/30\n",
            "1563/1563 [==============================] - 6s 4ms/step - loss: 0.2472 - accuracy: 0.9117 - val_loss: 0.3210 - val_accuracy: 0.8854\n",
            "Epoch 26/30\n",
            "1563/1563 [==============================] - 6s 4ms/step - loss: 0.2404 - accuracy: 0.9137 - val_loss: 0.3210 - val_accuracy: 0.8845\n",
            "Epoch 27/30\n",
            "1563/1563 [==============================] - 6s 4ms/step - loss: 0.2376 - accuracy: 0.9158 - val_loss: 0.3316 - val_accuracy: 0.8843\n",
            "Epoch 28/30\n",
            "1563/1563 [==============================] - 6s 4ms/step - loss: 0.2398 - accuracy: 0.9132 - val_loss: 0.3276 - val_accuracy: 0.8846\n",
            "Epoch 29/30\n",
            "1563/1563 [==============================] - 6s 4ms/step - loss: 0.2344 - accuracy: 0.9157 - val_loss: 0.3159 - val_accuracy: 0.8858\n",
            "Epoch 30/30\n",
            "1563/1563 [==============================] - 6s 4ms/step - loss: 0.2325 - accuracy: 0.9177 - val_loss: 0.3423 - val_accuracy: 0.8791\n"
          ],
          "name": "stdout"
        },
        {
          "output_type": "execute_result",
          "data": {
            "text/plain": [
              "<tensorflow.python.keras.callbacks.History at 0x7f908d659a50>"
            ]
          },
          "metadata": {
            "tags": []
          },
          "execution_count": 59
        }
      ]
    },
    {
      "cell_type": "code",
      "metadata": {
        "colab": {
          "base_uri": "https://localhost:8080/"
        },
        "id": "LPC9UcCognVO",
        "outputId": "717c0bd3-783d-419b-bca7-36cf684fd25b"
      },
      "source": [
        "history=firstModel.history\n",
        "history.params"
      ],
      "execution_count": 60,
      "outputs": [
        {
          "output_type": "execute_result",
          "data": {
            "text/plain": [
              "{'epochs': 30, 'steps': 1563, 'verbose': 1}"
            ]
          },
          "metadata": {
            "tags": []
          },
          "execution_count": 60
        }
      ]
    },
    {
      "cell_type": "code",
      "metadata": {
        "id": "7_DkCcfQpMcP"
      },
      "source": [
        "import pandas as pd\n",
        "import matplotlib.pyplot as plt\n",
        "\n",
        "historyDataFrame=pd.DataFrame(history.history)\n",
        "\n"
      ],
      "execution_count": 61,
      "outputs": []
    },
    {
      "cell_type": "code",
      "metadata": {
        "colab": {
          "base_uri": "https://localhost:8080/",
          "height": 592
        },
        "id": "aT9-Zcuppknf",
        "outputId": "1bf32fc9-91d6-4709-deb2-1658ca8eb8b5"
      },
      "source": [
        "plt.figure(figsize=(10,10))\n",
        "plt.plot(historyDataFrame)\n",
        "plt.grid(True)\n",
        "plt.show()"
      ],
      "execution_count": 64,
      "outputs": [
        {
          "output_type": "display_data",
          "data": {
            "image/png": "[encoded data removed]",
            "text/plain": [
              "<Figure size 720x720 with 1 Axes>"
            ]
          },
          "metadata": {
            "tags": [],
            "needs_background": "light"
          }
        }
      ]
    },
    {
      "cell_type": "code",
      "metadata": {
        "colab": {
          "base_uri": "https://localhost:8080/"
        },
        "id": "rYQmfkaI99TQ",
        "outputId": "ffe16eaa-7a84-4a26-ad18-bca797d45353"
      },
      "source": [
        "firstModel.evaluate(X_test, y_test)"
      ],
      "execution_count": 65,
      "outputs": [
        {
          "output_type": "stream",
          "text": [
            "313/313 [==============================] - 1s 2ms/step - loss: 0.3692 - accuracy: 0.8689\n"
          ],
          "name": "stdout"
        },
        {
          "output_type": "execute_result",
          "data": {
            "text/plain": [
              "[0.3691815435886383, 0.8689000010490417]"
            ]
          },
          "metadata": {
            "tags": []
          },
          "execution_count": 65
        }
      ]
    },
    {
      "cell_type": "code",
      "metadata": {
        "colab": {
          "base_uri": "https://localhost:8080/"
        },
        "id": "UgH1bCCZ_9u0",
        "outputId": "752e6922-9d7b-4265-9c6a-3593b7e62f30"
      },
      "source": [
        "X_new=X_test[:3]\n",
        "X_new.shape\n",
        "y_pred=firstModel.predict(X_new)\n",
        "y_pred.round(2)"
      ],
      "execution_count": 69,
      "outputs": [
        {
          "output_type": "execute_result",
          "data": {
            "text/plain": [
              "array([[0.  , 0.  , 0.  , 0.  , 0.  , 0.01, 0.  , 0.01, 0.  , 0.98],\n",
              "       [0.  , 0.  , 1.  , 0.  , 0.  , 0.  , 0.  , 0.  , 0.  , 0.  ],\n",
              "       [0.  , 1.  , 0.  , 0.  , 0.  , 0.  , 0.  , 0.  , 0.  , 0.  ]],\n",
              "      dtype=float32)"
            ]
          },
          "metadata": {
            "tags": []
          },
          "execution_count": 69
        }
      ]
    },
    {
      "cell_type": "code",
      "metadata": {
        "colab": {
          "base_uri": "https://localhost:8080/"
        },
        "id": "9dCn3tavAYUJ",
        "outputId": "aceadc09-72e9-4e6b-cece-89d690e452da"
      },
      "source": [
        "y_act=y_test[:3]\n",
        "y_act"
      ],
      "execution_count": 70,
      "outputs": [
        {
          "output_type": "execute_result",
          "data": {
            "text/plain": [
              "array([9, 2, 1], dtype=uint8)"
            ]
          },
          "metadata": {
            "tags": []
          },
          "execution_count": 70
        }
      ]
    }
  ]
}